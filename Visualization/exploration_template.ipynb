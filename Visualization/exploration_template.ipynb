{
 "cells": [
  {
   "cell_type": "markdown",
   "metadata": {},
   "source": [
    "# (Dataset Exploration Title)\n",
    "## by (your name here)\n",
    "\n",
    "## Preliminary Wrangling\n",
    "\n",
    "> Briefly introduce your dataset here."
   ]
  },
  {
   "cell_type": "code",
   "execution_count": 1,
   "metadata": {
    "ExecuteTime": {
     "end_time": "2020-10-08T08:51:00.575991Z",
     "start_time": "2020-10-08T08:50:45.174432Z"
    }
   },
   "outputs": [],
   "source": [
    "# import all packages and set plots to be embedded inline\n",
    "import numpy as np\n",
    "import pandas as pd\n",
    "import matplotlib.pyplot as plt\n",
    "import seaborn as sb\n",
    "\n",
    "%matplotlib inline"
   ]
  },
  {
   "cell_type": "markdown",
   "metadata": {},
   "source": [
    "> Load in your dataset and describe its properties through the questions below.\n",
    "Try and motivate your exploration goals through this section."
   ]
  },
  {
   "cell_type": "code",
   "execution_count": 2,
   "metadata": {
    "ExecuteTime": {
     "end_time": "2020-10-08T09:26:20.313177Z",
     "start_time": "2020-10-08T09:26:18.033564Z"
    }
   },
   "outputs": [
    {
     "data": {
      "text/plain": [
       "(152446, 13)"
      ]
     },
     "execution_count": 2,
     "metadata": {},
     "output_type": "execute_result"
    }
   ],
   "source": [
    "# load dataset\n",
    "data = pd.read_csv('202008-baywheels-tripdata.csv')\n",
    "data.shape"
   ]
  },
  {
   "cell_type": "markdown",
   "metadata": {},
   "source": [
    "### Dataset Describtion"
   ]
  },
  {
   "cell_type": "code",
   "execution_count": 3,
   "metadata": {
    "ExecuteTime": {
     "end_time": "2020-10-08T08:51:27.036880Z",
     "start_time": "2020-10-08T08:51:26.911952Z"
    }
   },
   "outputs": [
    {
     "data": {
      "text/html": [
       "<div>\n",
       "<style scoped>\n",
       "    .dataframe tbody tr th:only-of-type {\n",
       "        vertical-align: middle;\n",
       "    }\n",
       "\n",
       "    .dataframe tbody tr th {\n",
       "        vertical-align: top;\n",
       "    }\n",
       "\n",
       "    .dataframe thead th {\n",
       "        text-align: right;\n",
       "    }\n",
       "</style>\n",
       "<table border=\"1\" class=\"dataframe\">\n",
       "  <thead>\n",
       "    <tr style=\"text-align: right;\">\n",
       "      <th></th>\n",
       "      <th>ride_id</th>\n",
       "      <th>rideable_type</th>\n",
       "      <th>started_at</th>\n",
       "      <th>ended_at</th>\n",
       "      <th>start_station_name</th>\n",
       "      <th>start_station_id</th>\n",
       "      <th>end_station_name</th>\n",
       "      <th>end_station_id</th>\n",
       "      <th>start_lat</th>\n",
       "      <th>start_lng</th>\n",
       "      <th>end_lat</th>\n",
       "      <th>end_lng</th>\n",
       "      <th>member_casual</th>\n",
       "    </tr>\n",
       "  </thead>\n",
       "  <tbody>\n",
       "    <tr>\n",
       "      <th>0</th>\n",
       "      <td>6549E11C13124B5F</td>\n",
       "      <td>electric_bike</td>\n",
       "      <td>2020-08-14 09:41:03</td>\n",
       "      <td>2020-08-14 10:03:45</td>\n",
       "      <td>NaN</td>\n",
       "      <td>NaN</td>\n",
       "      <td>Illinois St at 20th St</td>\n",
       "      <td>376.0</td>\n",
       "      <td>37.790000</td>\n",
       "      <td>-122.420000</td>\n",
       "      <td>37.760320</td>\n",
       "      <td>-122.387456</td>\n",
       "      <td>casual</td>\n",
       "    </tr>\n",
       "    <tr>\n",
       "      <th>1</th>\n",
       "      <td>B7F273BF69C8E4A3</td>\n",
       "      <td>electric_bike</td>\n",
       "      <td>2020-08-13 18:43:00</td>\n",
       "      <td>2020-08-13 18:52:52</td>\n",
       "      <td>NaN</td>\n",
       "      <td>NaN</td>\n",
       "      <td>24th St at Chattanooga St</td>\n",
       "      <td>132.0</td>\n",
       "      <td>37.750000</td>\n",
       "      <td>-122.410000</td>\n",
       "      <td>37.751798</td>\n",
       "      <td>-122.426539</td>\n",
       "      <td>casual</td>\n",
       "    </tr>\n",
       "    <tr>\n",
       "      <th>2</th>\n",
       "      <td>33B224625CF1BC63</td>\n",
       "      <td>electric_bike</td>\n",
       "      <td>2020-08-14 09:13:54</td>\n",
       "      <td>2020-08-14 09:20:29</td>\n",
       "      <td>23rd St at Tennessee St</td>\n",
       "      <td>355.0</td>\n",
       "      <td>Jackson Playground</td>\n",
       "      <td>115.0</td>\n",
       "      <td>37.755426</td>\n",
       "      <td>-122.388588</td>\n",
       "      <td>37.764950</td>\n",
       "      <td>-122.398857</td>\n",
       "      <td>casual</td>\n",
       "    </tr>\n",
       "    <tr>\n",
       "      <th>3</th>\n",
       "      <td>053D5F7D1AC11423</td>\n",
       "      <td>electric_bike</td>\n",
       "      <td>2020-08-14 11:26:54</td>\n",
       "      <td>2020-08-14 11:29:17</td>\n",
       "      <td>Broderick St at Oak St</td>\n",
       "      <td>71.0</td>\n",
       "      <td>Pierce St at Haight St</td>\n",
       "      <td>73.0</td>\n",
       "      <td>37.773053</td>\n",
       "      <td>-122.439103</td>\n",
       "      <td>37.771924</td>\n",
       "      <td>-122.433821</td>\n",
       "      <td>casual</td>\n",
       "    </tr>\n",
       "    <tr>\n",
       "      <th>4</th>\n",
       "      <td>B3BDECA79FF1C671</td>\n",
       "      <td>electric_bike</td>\n",
       "      <td>2020-08-14 08:37:37</td>\n",
       "      <td>2020-08-14 08:52:20</td>\n",
       "      <td>Broderick St at Oak St</td>\n",
       "      <td>71.0</td>\n",
       "      <td>NaN</td>\n",
       "      <td>NaN</td>\n",
       "      <td>37.773232</td>\n",
       "      <td>-122.439135</td>\n",
       "      <td>37.770000</td>\n",
       "      <td>-122.490000</td>\n",
       "      <td>casual</td>\n",
       "    </tr>\n",
       "  </tbody>\n",
       "</table>\n",
       "</div>"
      ],
      "text/plain": [
       "            ride_id  rideable_type           started_at             ended_at  \\\n",
       "0  6549E11C13124B5F  electric_bike  2020-08-14 09:41:03  2020-08-14 10:03:45   \n",
       "1  B7F273BF69C8E4A3  electric_bike  2020-08-13 18:43:00  2020-08-13 18:52:52   \n",
       "2  33B224625CF1BC63  electric_bike  2020-08-14 09:13:54  2020-08-14 09:20:29   \n",
       "3  053D5F7D1AC11423  electric_bike  2020-08-14 11:26:54  2020-08-14 11:29:17   \n",
       "4  B3BDECA79FF1C671  electric_bike  2020-08-14 08:37:37  2020-08-14 08:52:20   \n",
       "\n",
       "        start_station_name  start_station_id           end_station_name  \\\n",
       "0                      NaN               NaN     Illinois St at 20th St   \n",
       "1                      NaN               NaN  24th St at Chattanooga St   \n",
       "2  23rd St at Tennessee St             355.0         Jackson Playground   \n",
       "3   Broderick St at Oak St              71.0     Pierce St at Haight St   \n",
       "4   Broderick St at Oak St              71.0                        NaN   \n",
       "\n",
       "   end_station_id  start_lat   start_lng    end_lat     end_lng member_casual  \n",
       "0           376.0  37.790000 -122.420000  37.760320 -122.387456        casual  \n",
       "1           132.0  37.750000 -122.410000  37.751798 -122.426539        casual  \n",
       "2           115.0  37.755426 -122.388588  37.764950 -122.398857        casual  \n",
       "3            73.0  37.773053 -122.439103  37.771924 -122.433821        casual  \n",
       "4             NaN  37.773232 -122.439135  37.770000 -122.490000        casual  "
      ]
     },
     "execution_count": 3,
     "metadata": {},
     "output_type": "execute_result"
    }
   ],
   "source": [
    "data.head()"
   ]
  },
  {
   "cell_type": "code",
   "execution_count": 4,
   "metadata": {
    "ExecuteTime": {
     "end_time": "2020-10-08T08:55:34.057568Z",
     "start_time": "2020-10-08T08:55:33.698217Z"
    }
   },
   "outputs": [
    {
     "name": "stdout",
     "output_type": "stream",
     "text": [
      "<class 'pandas.core.frame.DataFrame'>\n",
      "RangeIndex: 152446 entries, 0 to 152445\n",
      "Data columns (total 13 columns):\n",
      " #   Column              Non-Null Count   Dtype  \n",
      "---  ------              --------------   -----  \n",
      " 0   ride_id             152446 non-null  object \n",
      " 1   rideable_type       152446 non-null  object \n",
      " 2   started_at          152446 non-null  object \n",
      " 3   ended_at            152446 non-null  object \n",
      " 4   start_station_name  104206 non-null  object \n",
      " 5   start_station_id    104206 non-null  float64\n",
      " 6   end_station_name    101349 non-null  object \n",
      " 7   end_station_id      101349 non-null  float64\n",
      " 8   start_lat           152446 non-null  float64\n",
      " 9   start_lng           152446 non-null  float64\n",
      " 10  end_lat             152246 non-null  float64\n",
      " 11  end_lng             152246 non-null  float64\n",
      " 12  member_casual       152446 non-null  object \n",
      "dtypes: float64(6), object(7)\n",
      "memory usage: 15.1+ MB\n"
     ]
    }
   ],
   "source": [
    "data.info()"
   ]
  },
  {
   "cell_type": "code",
   "execution_count": 5,
   "metadata": {
    "ExecuteTime": {
     "end_time": "2020-10-08T08:54:59.387301Z",
     "start_time": "2020-10-08T08:54:58.942499Z"
    }
   },
   "outputs": [
    {
     "data": {
      "text/html": [
       "<div>\n",
       "<style scoped>\n",
       "    .dataframe tbody tr th:only-of-type {\n",
       "        vertical-align: middle;\n",
       "    }\n",
       "\n",
       "    .dataframe tbody tr th {\n",
       "        vertical-align: top;\n",
       "    }\n",
       "\n",
       "    .dataframe thead th {\n",
       "        text-align: right;\n",
       "    }\n",
       "</style>\n",
       "<table border=\"1\" class=\"dataframe\">\n",
       "  <thead>\n",
       "    <tr style=\"text-align: right;\">\n",
       "      <th></th>\n",
       "      <th>start_station_id</th>\n",
       "      <th>end_station_id</th>\n",
       "      <th>start_lat</th>\n",
       "      <th>start_lng</th>\n",
       "      <th>end_lat</th>\n",
       "      <th>end_lng</th>\n",
       "    </tr>\n",
       "  </thead>\n",
       "  <tbody>\n",
       "    <tr>\n",
       "      <th>count</th>\n",
       "      <td>104206.000000</td>\n",
       "      <td>101349.000000</td>\n",
       "      <td>152446.000000</td>\n",
       "      <td>152446.000000</td>\n",
       "      <td>152246.000000</td>\n",
       "      <td>152246.000000</td>\n",
       "    </tr>\n",
       "    <tr>\n",
       "      <th>mean</th>\n",
       "      <td>224.407261</td>\n",
       "      <td>220.555881</td>\n",
       "      <td>37.729328</td>\n",
       "      <td>-122.355459</td>\n",
       "      <td>37.729155</td>\n",
       "      <td>-122.350376</td>\n",
       "    </tr>\n",
       "    <tr>\n",
       "      <th>std</th>\n",
       "      <td>173.466608</td>\n",
       "      <td>174.087160</td>\n",
       "      <td>0.142196</td>\n",
       "      <td>0.171591</td>\n",
       "      <td>0.172028</td>\n",
       "      <td>0.681279</td>\n",
       "    </tr>\n",
       "    <tr>\n",
       "      <th>min</th>\n",
       "      <td>3.000000</td>\n",
       "      <td>3.000000</td>\n",
       "      <td>37.240000</td>\n",
       "      <td>-122.510000</td>\n",
       "      <td>0.000000</td>\n",
       "      <td>-122.510000</td>\n",
       "    </tr>\n",
       "    <tr>\n",
       "      <th>25%</th>\n",
       "      <td>72.000000</td>\n",
       "      <td>72.000000</td>\n",
       "      <td>37.760000</td>\n",
       "      <td>-122.433280</td>\n",
       "      <td>37.760000</td>\n",
       "      <td>-122.432642</td>\n",
       "    </tr>\n",
       "    <tr>\n",
       "      <th>50%</th>\n",
       "      <td>145.000000</td>\n",
       "      <td>139.000000</td>\n",
       "      <td>37.773571</td>\n",
       "      <td>-122.413371</td>\n",
       "      <td>37.773556</td>\n",
       "      <td>-122.413200</td>\n",
       "    </tr>\n",
       "    <tr>\n",
       "      <th>75%</th>\n",
       "      <td>386.000000</td>\n",
       "      <td>384.000000</td>\n",
       "      <td>37.787883</td>\n",
       "      <td>-122.392553</td>\n",
       "      <td>37.788160</td>\n",
       "      <td>-122.392673</td>\n",
       "    </tr>\n",
       "    <tr>\n",
       "      <th>max</th>\n",
       "      <td>538.000000</td>\n",
       "      <td>538.000000</td>\n",
       "      <td>37.880222</td>\n",
       "      <td>-121.770000</td>\n",
       "      <td>37.880222</td>\n",
       "      <td>0.000000</td>\n",
       "    </tr>\n",
       "  </tbody>\n",
       "</table>\n",
       "</div>"
      ],
      "text/plain": [
       "       start_station_id  end_station_id      start_lat      start_lng  \\\n",
       "count     104206.000000   101349.000000  152446.000000  152446.000000   \n",
       "mean         224.407261      220.555881      37.729328    -122.355459   \n",
       "std          173.466608      174.087160       0.142196       0.171591   \n",
       "min            3.000000        3.000000      37.240000    -122.510000   \n",
       "25%           72.000000       72.000000      37.760000    -122.433280   \n",
       "50%          145.000000      139.000000      37.773571    -122.413371   \n",
       "75%          386.000000      384.000000      37.787883    -122.392553   \n",
       "max          538.000000      538.000000      37.880222    -121.770000   \n",
       "\n",
       "             end_lat        end_lng  \n",
       "count  152246.000000  152246.000000  \n",
       "mean       37.729155    -122.350376  \n",
       "std         0.172028       0.681279  \n",
       "min         0.000000    -122.510000  \n",
       "25%        37.760000    -122.432642  \n",
       "50%        37.773556    -122.413200  \n",
       "75%        37.788160    -122.392673  \n",
       "max        37.880222       0.000000  "
      ]
     },
     "execution_count": 5,
     "metadata": {},
     "output_type": "execute_result"
    }
   ],
   "source": [
    "data.describe()"
   ]
  },
  {
   "cell_type": "code",
   "execution_count": 6,
   "metadata": {
    "ExecuteTime": {
     "end_time": "2020-10-08T09:00:34.215665Z",
     "start_time": "2020-10-08T09:00:32.956002Z"
    }
   },
   "outputs": [
    {
     "data": {
      "text/plain": [
       "0"
      ]
     },
     "execution_count": 6,
     "metadata": {},
     "output_type": "execute_result"
    }
   ],
   "source": [
    "data.duplicated().sum()"
   ]
  },
  {
   "cell_type": "code",
   "execution_count": 7,
   "metadata": {
    "ExecuteTime": {
     "end_time": "2020-10-08T09:00:57.115604Z",
     "start_time": "2020-10-08T09:00:56.809242Z"
    }
   },
   "outputs": [
    {
     "data": {
      "text/plain": [
       "ride_id                   0\n",
       "rideable_type             0\n",
       "started_at                0\n",
       "ended_at                  0\n",
       "start_station_name    48240\n",
       "start_station_id      48240\n",
       "end_station_name      51097\n",
       "end_station_id        51097\n",
       "start_lat                 0\n",
       "start_lng                 0\n",
       "end_lat                 200\n",
       "end_lng                 200\n",
       "member_casual             0\n",
       "dtype: int64"
      ]
     },
     "execution_count": 7,
     "metadata": {},
     "output_type": "execute_result"
    }
   ],
   "source": [
    "data.isnull().sum()"
   ]
  },
  {
   "cell_type": "code",
   "execution_count": 29,
   "metadata": {
    "ExecuteTime": {
     "end_time": "2020-10-08T09:03:44.664249Z",
     "start_time": "2020-10-08T09:03:44.622248Z"
    }
   },
   "outputs": [],
   "source": [
    "#make copy from dataset\n",
    "data_clean = data.copy()"
   ]
  },
  {
   "cell_type": "code",
   "execution_count": 30,
   "metadata": {
    "ExecuteTime": {
     "end_time": "2020-10-08T09:06:33.029251Z",
     "start_time": "2020-10-08T09:06:32.656539Z"
    }
   },
   "outputs": [
    {
     "name": "stdout",
     "output_type": "stream",
     "text": [
      "<class 'pandas.core.frame.DataFrame'>\n",
      "RangeIndex: 152446 entries, 0 to 152445\n",
      "Data columns (total 13 columns):\n",
      " #   Column              Non-Null Count   Dtype         \n",
      "---  ------              --------------   -----         \n",
      " 0   ride_id             152446 non-null  object        \n",
      " 1   rideable_type       152446 non-null  object        \n",
      " 2   started_at          152446 non-null  datetime64[ns]\n",
      " 3   ended_at            152446 non-null  datetime64[ns]\n",
      " 4   start_station_name  104206 non-null  object        \n",
      " 5   start_station_id    104206 non-null  float64       \n",
      " 6   end_station_name    101349 non-null  object        \n",
      " 7   end_station_id      101349 non-null  float64       \n",
      " 8   start_lat           152446 non-null  float64       \n",
      " 9   start_lng           152446 non-null  float64       \n",
      " 10  end_lat             152246 non-null  float64       \n",
      " 11  end_lng             152246 non-null  float64       \n",
      " 12  member_casual       152446 non-null  object        \n",
      "dtypes: datetime64[ns](2), float64(6), object(5)\n",
      "memory usage: 15.1+ MB\n"
     ]
    }
   ],
   "source": [
    "#conver date from object to date type\n",
    "data_clean.started_at = pd.to_datetime(data_clean.started_at)\n",
    "data_clean.ended_at = pd.to_datetime(data_clean.ended_at)\n",
    "data_clean.info()"
   ]
  },
  {
   "cell_type": "code",
   "execution_count": 10,
   "metadata": {
    "ExecuteTime": {
     "end_time": "2020-10-08T09:23:13.740596Z",
     "start_time": "2020-10-08T09:23:01.633783Z"
    },
    "scrolled": true
   },
   "outputs": [
    {
     "data": {
      "text/html": [
       "<div>\n",
       "<style scoped>\n",
       "    .dataframe tbody tr th:only-of-type {\n",
       "        vertical-align: middle;\n",
       "    }\n",
       "\n",
       "    .dataframe tbody tr th {\n",
       "        vertical-align: top;\n",
       "    }\n",
       "\n",
       "    .dataframe thead th {\n",
       "        text-align: right;\n",
       "    }\n",
       "</style>\n",
       "<table border=\"1\" class=\"dataframe\">\n",
       "  <thead>\n",
       "    <tr style=\"text-align: right;\">\n",
       "      <th></th>\n",
       "      <th>ride_id</th>\n",
       "      <th>rideable_type</th>\n",
       "      <th>started_at</th>\n",
       "      <th>ended_at</th>\n",
       "      <th>start_station_name</th>\n",
       "      <th>start_station_id</th>\n",
       "      <th>end_station_name</th>\n",
       "      <th>end_station_id</th>\n",
       "      <th>start_lat</th>\n",
       "      <th>start_lng</th>\n",
       "      <th>end_lat</th>\n",
       "      <th>end_lng</th>\n",
       "      <th>member_casual</th>\n",
       "      <th>start_time_month_name</th>\n",
       "      <th>start_time_month</th>\n",
       "      <th>start_time_weekday</th>\n",
       "      <th>start_time_day</th>\n",
       "      <th>start_time_hour</th>\n",
       "      <th>start_time_minute</th>\n",
       "    </tr>\n",
       "  </thead>\n",
       "  <tbody>\n",
       "    <tr>\n",
       "      <th>0</th>\n",
       "      <td>6549E11C13124B5F</td>\n",
       "      <td>electric_bike</td>\n",
       "      <td>2020-08-14 09:41:03</td>\n",
       "      <td>2020-08-14 10:03:45</td>\n",
       "      <td>NaN</td>\n",
       "      <td>NaN</td>\n",
       "      <td>Illinois St at 20th St</td>\n",
       "      <td>376.0</td>\n",
       "      <td>37.790000</td>\n",
       "      <td>-122.420000</td>\n",
       "      <td>37.760320</td>\n",
       "      <td>-122.387456</td>\n",
       "      <td>casual</td>\n",
       "      <td>August</td>\n",
       "      <td>8</td>\n",
       "      <td>Fri</td>\n",
       "      <td>14</td>\n",
       "      <td>9</td>\n",
       "      <td>41</td>\n",
       "    </tr>\n",
       "    <tr>\n",
       "      <th>1</th>\n",
       "      <td>B7F273BF69C8E4A3</td>\n",
       "      <td>electric_bike</td>\n",
       "      <td>2020-08-13 18:43:00</td>\n",
       "      <td>2020-08-13 18:52:52</td>\n",
       "      <td>NaN</td>\n",
       "      <td>NaN</td>\n",
       "      <td>24th St at Chattanooga St</td>\n",
       "      <td>132.0</td>\n",
       "      <td>37.750000</td>\n",
       "      <td>-122.410000</td>\n",
       "      <td>37.751798</td>\n",
       "      <td>-122.426539</td>\n",
       "      <td>casual</td>\n",
       "      <td>August</td>\n",
       "      <td>8</td>\n",
       "      <td>Thu</td>\n",
       "      <td>13</td>\n",
       "      <td>18</td>\n",
       "      <td>43</td>\n",
       "    </tr>\n",
       "    <tr>\n",
       "      <th>2</th>\n",
       "      <td>33B224625CF1BC63</td>\n",
       "      <td>electric_bike</td>\n",
       "      <td>2020-08-14 09:13:54</td>\n",
       "      <td>2020-08-14 09:20:29</td>\n",
       "      <td>23rd St at Tennessee St</td>\n",
       "      <td>355.0</td>\n",
       "      <td>Jackson Playground</td>\n",
       "      <td>115.0</td>\n",
       "      <td>37.755426</td>\n",
       "      <td>-122.388588</td>\n",
       "      <td>37.764950</td>\n",
       "      <td>-122.398857</td>\n",
       "      <td>casual</td>\n",
       "      <td>August</td>\n",
       "      <td>8</td>\n",
       "      <td>Fri</td>\n",
       "      <td>14</td>\n",
       "      <td>9</td>\n",
       "      <td>13</td>\n",
       "    </tr>\n",
       "    <tr>\n",
       "      <th>3</th>\n",
       "      <td>053D5F7D1AC11423</td>\n",
       "      <td>electric_bike</td>\n",
       "      <td>2020-08-14 11:26:54</td>\n",
       "      <td>2020-08-14 11:29:17</td>\n",
       "      <td>Broderick St at Oak St</td>\n",
       "      <td>71.0</td>\n",
       "      <td>Pierce St at Haight St</td>\n",
       "      <td>73.0</td>\n",
       "      <td>37.773053</td>\n",
       "      <td>-122.439103</td>\n",
       "      <td>37.771924</td>\n",
       "      <td>-122.433821</td>\n",
       "      <td>casual</td>\n",
       "      <td>August</td>\n",
       "      <td>8</td>\n",
       "      <td>Fri</td>\n",
       "      <td>14</td>\n",
       "      <td>11</td>\n",
       "      <td>26</td>\n",
       "    </tr>\n",
       "    <tr>\n",
       "      <th>4</th>\n",
       "      <td>B3BDECA79FF1C671</td>\n",
       "      <td>electric_bike</td>\n",
       "      <td>2020-08-14 08:37:37</td>\n",
       "      <td>2020-08-14 08:52:20</td>\n",
       "      <td>Broderick St at Oak St</td>\n",
       "      <td>71.0</td>\n",
       "      <td>NaN</td>\n",
       "      <td>NaN</td>\n",
       "      <td>37.773232</td>\n",
       "      <td>-122.439135</td>\n",
       "      <td>37.770000</td>\n",
       "      <td>-122.490000</td>\n",
       "      <td>casual</td>\n",
       "      <td>August</td>\n",
       "      <td>8</td>\n",
       "      <td>Fri</td>\n",
       "      <td>14</td>\n",
       "      <td>8</td>\n",
       "      <td>37</td>\n",
       "    </tr>\n",
       "  </tbody>\n",
       "</table>\n",
       "</div>"
      ],
      "text/plain": [
       "            ride_id  rideable_type          started_at            ended_at  \\\n",
       "0  6549E11C13124B5F  electric_bike 2020-08-14 09:41:03 2020-08-14 10:03:45   \n",
       "1  B7F273BF69C8E4A3  electric_bike 2020-08-13 18:43:00 2020-08-13 18:52:52   \n",
       "2  33B224625CF1BC63  electric_bike 2020-08-14 09:13:54 2020-08-14 09:20:29   \n",
       "3  053D5F7D1AC11423  electric_bike 2020-08-14 11:26:54 2020-08-14 11:29:17   \n",
       "4  B3BDECA79FF1C671  electric_bike 2020-08-14 08:37:37 2020-08-14 08:52:20   \n",
       "\n",
       "        start_station_name  start_station_id           end_station_name  \\\n",
       "0                      NaN               NaN     Illinois St at 20th St   \n",
       "1                      NaN               NaN  24th St at Chattanooga St   \n",
       "2  23rd St at Tennessee St             355.0         Jackson Playground   \n",
       "3   Broderick St at Oak St              71.0     Pierce St at Haight St   \n",
       "4   Broderick St at Oak St              71.0                        NaN   \n",
       "\n",
       "   end_station_id  start_lat   start_lng    end_lat     end_lng member_casual  \\\n",
       "0           376.0  37.790000 -122.420000  37.760320 -122.387456        casual   \n",
       "1           132.0  37.750000 -122.410000  37.751798 -122.426539        casual   \n",
       "2           115.0  37.755426 -122.388588  37.764950 -122.398857        casual   \n",
       "3            73.0  37.773053 -122.439103  37.771924 -122.433821        casual   \n",
       "4             NaN  37.773232 -122.439135  37.770000 -122.490000        casual   \n",
       "\n",
       "  start_time_month_name  start_time_month start_time_weekday  start_time_day  \\\n",
       "0                August                 8                Fri              14   \n",
       "1                August                 8                Thu              13   \n",
       "2                August                 8                Fri              14   \n",
       "3                August                 8                Fri              14   \n",
       "4                August                 8                Fri              14   \n",
       "\n",
       "   start_time_hour  start_time_minute  \n",
       "0                9                 41  \n",
       "1               18                 43  \n",
       "2                9                 13  \n",
       "3               11                 26  \n",
       "4                8                 37  "
      ]
     },
     "execution_count": 10,
     "metadata": {},
     "output_type": "execute_result"
    }
   ],
   "source": [
    "# extract start time month name\n",
    "data_clean['start_time_month_name']=data_clean['started_at'].dt.strftime('%B')\n",
    "# extract start time month number\n",
    "data_clean['start_time_month']=data_clean['started_at'].dt.month.astype(int)\n",
    "# extract start time weekdays\n",
    "data_clean['start_time_weekday']=data_clean['started_at'].dt.strftime('%a')\n",
    "# extract start time day\n",
    "data_clean['start_time_day']=data_clean['started_at'].dt.day.astype(int)\n",
    "# extract start time hour\n",
    "data_clean['start_time_hour']=data_clean['started_at'].dt.hour\n",
    "# extract start time minute\n",
    "data_clean['start_time_minute']=data_clean['started_at'].dt.minute\n",
    "\n",
    "data_clean.head()"
   ]
  },
  {
   "cell_type": "code",
   "execution_count": 11,
   "metadata": {
    "ExecuteTime": {
     "end_time": "2020-10-08T11:11:22.007713Z",
     "start_time": "2020-10-08T11:11:21.558031Z"
    }
   },
   "outputs": [
    {
     "name": "stdout",
     "output_type": "stream",
     "text": [
      "<class 'pandas.core.frame.DataFrame'>\n",
      "RangeIndex: 152446 entries, 0 to 152445\n",
      "Data columns (total 19 columns):\n",
      " #   Column                 Non-Null Count   Dtype         \n",
      "---  ------                 --------------   -----         \n",
      " 0   ride_id                152446 non-null  object        \n",
      " 1   rideable_type          152446 non-null  object        \n",
      " 2   started_at             152446 non-null  datetime64[ns]\n",
      " 3   ended_at               152446 non-null  datetime64[ns]\n",
      " 4   start_station_name     104206 non-null  object        \n",
      " 5   start_station_id       104206 non-null  float64       \n",
      " 6   end_station_name       101349 non-null  object        \n",
      " 7   end_station_id         101349 non-null  float64       \n",
      " 8   start_lat              152446 non-null  float64       \n",
      " 9   start_lng              152446 non-null  float64       \n",
      " 10  end_lat                152246 non-null  float64       \n",
      " 11  end_lng                152246 non-null  float64       \n",
      " 12  member_casual          152446 non-null  object        \n",
      " 13  start_time_month_name  152446 non-null  object        \n",
      " 14  start_time_month       152446 non-null  int64         \n",
      " 15  start_time_weekday     152446 non-null  object        \n",
      " 16  start_time_day         152446 non-null  int64         \n",
      " 17  start_time_hour        152446 non-null  int64         \n",
      " 18  start_time_minute      152446 non-null  int64         \n",
      "dtypes: datetime64[ns](2), float64(6), int64(4), object(7)\n",
      "memory usage: 22.1+ MB\n"
     ]
    }
   ],
   "source": [
    "data_clean.info()"
   ]
  },
  {
   "cell_type": "code",
   "execution_count": 12,
   "metadata": {
    "ExecuteTime": {
     "end_time": "2020-10-08T11:11:54.191108Z",
     "start_time": "2020-10-08T11:11:54.065346Z"
    }
   },
   "outputs": [
    {
     "data": {
      "text/html": [
       "<div>\n",
       "<style scoped>\n",
       "    .dataframe tbody tr th:only-of-type {\n",
       "        vertical-align: middle;\n",
       "    }\n",
       "\n",
       "    .dataframe tbody tr th {\n",
       "        vertical-align: top;\n",
       "    }\n",
       "\n",
       "    .dataframe thead th {\n",
       "        text-align: right;\n",
       "    }\n",
       "</style>\n",
       "<table border=\"1\" class=\"dataframe\">\n",
       "  <thead>\n",
       "    <tr style=\"text-align: right;\">\n",
       "      <th></th>\n",
       "      <th>ride_id</th>\n",
       "      <th>rideable_type</th>\n",
       "      <th>started_at</th>\n",
       "      <th>ended_at</th>\n",
       "      <th>start_station_name</th>\n",
       "      <th>start_station_id</th>\n",
       "      <th>end_station_name</th>\n",
       "      <th>end_station_id</th>\n",
       "      <th>start_lat</th>\n",
       "      <th>start_lng</th>\n",
       "      <th>end_lat</th>\n",
       "      <th>end_lng</th>\n",
       "      <th>member_casual</th>\n",
       "      <th>start_time_month_name</th>\n",
       "      <th>start_time_month</th>\n",
       "      <th>start_time_weekday</th>\n",
       "      <th>start_time_day</th>\n",
       "      <th>start_time_hour</th>\n",
       "      <th>start_time_minute</th>\n",
       "      <th>duration</th>\n",
       "    </tr>\n",
       "  </thead>\n",
       "  <tbody>\n",
       "    <tr>\n",
       "      <th>0</th>\n",
       "      <td>6549E11C13124B5F</td>\n",
       "      <td>electric_bike</td>\n",
       "      <td>2020-08-14 09:41:03</td>\n",
       "      <td>2020-08-14 10:03:45</td>\n",
       "      <td>NaN</td>\n",
       "      <td>NaN</td>\n",
       "      <td>Illinois St at 20th St</td>\n",
       "      <td>376.0</td>\n",
       "      <td>37.790000</td>\n",
       "      <td>-122.420000</td>\n",
       "      <td>37.760320</td>\n",
       "      <td>-122.387456</td>\n",
       "      <td>casual</td>\n",
       "      <td>August</td>\n",
       "      <td>8</td>\n",
       "      <td>Fri</td>\n",
       "      <td>14</td>\n",
       "      <td>9</td>\n",
       "      <td>41</td>\n",
       "      <td>00:22:42</td>\n",
       "    </tr>\n",
       "    <tr>\n",
       "      <th>1</th>\n",
       "      <td>B7F273BF69C8E4A3</td>\n",
       "      <td>electric_bike</td>\n",
       "      <td>2020-08-13 18:43:00</td>\n",
       "      <td>2020-08-13 18:52:52</td>\n",
       "      <td>NaN</td>\n",
       "      <td>NaN</td>\n",
       "      <td>24th St at Chattanooga St</td>\n",
       "      <td>132.0</td>\n",
       "      <td>37.750000</td>\n",
       "      <td>-122.410000</td>\n",
       "      <td>37.751798</td>\n",
       "      <td>-122.426539</td>\n",
       "      <td>casual</td>\n",
       "      <td>August</td>\n",
       "      <td>8</td>\n",
       "      <td>Thu</td>\n",
       "      <td>13</td>\n",
       "      <td>18</td>\n",
       "      <td>43</td>\n",
       "      <td>00:09:52</td>\n",
       "    </tr>\n",
       "    <tr>\n",
       "      <th>2</th>\n",
       "      <td>33B224625CF1BC63</td>\n",
       "      <td>electric_bike</td>\n",
       "      <td>2020-08-14 09:13:54</td>\n",
       "      <td>2020-08-14 09:20:29</td>\n",
       "      <td>23rd St at Tennessee St</td>\n",
       "      <td>355.0</td>\n",
       "      <td>Jackson Playground</td>\n",
       "      <td>115.0</td>\n",
       "      <td>37.755426</td>\n",
       "      <td>-122.388588</td>\n",
       "      <td>37.764950</td>\n",
       "      <td>-122.398857</td>\n",
       "      <td>casual</td>\n",
       "      <td>August</td>\n",
       "      <td>8</td>\n",
       "      <td>Fri</td>\n",
       "      <td>14</td>\n",
       "      <td>9</td>\n",
       "      <td>13</td>\n",
       "      <td>00:06:35</td>\n",
       "    </tr>\n",
       "    <tr>\n",
       "      <th>3</th>\n",
       "      <td>053D5F7D1AC11423</td>\n",
       "      <td>electric_bike</td>\n",
       "      <td>2020-08-14 11:26:54</td>\n",
       "      <td>2020-08-14 11:29:17</td>\n",
       "      <td>Broderick St at Oak St</td>\n",
       "      <td>71.0</td>\n",
       "      <td>Pierce St at Haight St</td>\n",
       "      <td>73.0</td>\n",
       "      <td>37.773053</td>\n",
       "      <td>-122.439103</td>\n",
       "      <td>37.771924</td>\n",
       "      <td>-122.433821</td>\n",
       "      <td>casual</td>\n",
       "      <td>August</td>\n",
       "      <td>8</td>\n",
       "      <td>Fri</td>\n",
       "      <td>14</td>\n",
       "      <td>11</td>\n",
       "      <td>26</td>\n",
       "      <td>00:02:23</td>\n",
       "    </tr>\n",
       "    <tr>\n",
       "      <th>4</th>\n",
       "      <td>B3BDECA79FF1C671</td>\n",
       "      <td>electric_bike</td>\n",
       "      <td>2020-08-14 08:37:37</td>\n",
       "      <td>2020-08-14 08:52:20</td>\n",
       "      <td>Broderick St at Oak St</td>\n",
       "      <td>71.0</td>\n",
       "      <td>NaN</td>\n",
       "      <td>NaN</td>\n",
       "      <td>37.773232</td>\n",
       "      <td>-122.439135</td>\n",
       "      <td>37.770000</td>\n",
       "      <td>-122.490000</td>\n",
       "      <td>casual</td>\n",
       "      <td>August</td>\n",
       "      <td>8</td>\n",
       "      <td>Fri</td>\n",
       "      <td>14</td>\n",
       "      <td>8</td>\n",
       "      <td>37</td>\n",
       "      <td>00:14:43</td>\n",
       "    </tr>\n",
       "  </tbody>\n",
       "</table>\n",
       "</div>"
      ],
      "text/plain": [
       "            ride_id  rideable_type          started_at            ended_at  \\\n",
       "0  6549E11C13124B5F  electric_bike 2020-08-14 09:41:03 2020-08-14 10:03:45   \n",
       "1  B7F273BF69C8E4A3  electric_bike 2020-08-13 18:43:00 2020-08-13 18:52:52   \n",
       "2  33B224625CF1BC63  electric_bike 2020-08-14 09:13:54 2020-08-14 09:20:29   \n",
       "3  053D5F7D1AC11423  electric_bike 2020-08-14 11:26:54 2020-08-14 11:29:17   \n",
       "4  B3BDECA79FF1C671  electric_bike 2020-08-14 08:37:37 2020-08-14 08:52:20   \n",
       "\n",
       "        start_station_name  start_station_id           end_station_name  \\\n",
       "0                      NaN               NaN     Illinois St at 20th St   \n",
       "1                      NaN               NaN  24th St at Chattanooga St   \n",
       "2  23rd St at Tennessee St             355.0         Jackson Playground   \n",
       "3   Broderick St at Oak St              71.0     Pierce St at Haight St   \n",
       "4   Broderick St at Oak St              71.0                        NaN   \n",
       "\n",
       "   end_station_id  start_lat   start_lng    end_lat     end_lng member_casual  \\\n",
       "0           376.0  37.790000 -122.420000  37.760320 -122.387456        casual   \n",
       "1           132.0  37.750000 -122.410000  37.751798 -122.426539        casual   \n",
       "2           115.0  37.755426 -122.388588  37.764950 -122.398857        casual   \n",
       "3            73.0  37.773053 -122.439103  37.771924 -122.433821        casual   \n",
       "4             NaN  37.773232 -122.439135  37.770000 -122.490000        casual   \n",
       "\n",
       "  start_time_month_name  start_time_month start_time_weekday  start_time_day  \\\n",
       "0                August                 8                Fri              14   \n",
       "1                August                 8                Thu              13   \n",
       "2                August                 8                Fri              14   \n",
       "3                August                 8                Fri              14   \n",
       "4                August                 8                Fri              14   \n",
       "\n",
       "   start_time_hour  start_time_minute duration  \n",
       "0                9                 41 00:22:42  \n",
       "1               18                 43 00:09:52  \n",
       "2                9                 13 00:06:35  \n",
       "3               11                 26 00:02:23  \n",
       "4                8                 37 00:14:43  "
      ]
     },
     "execution_count": 12,
     "metadata": {},
     "output_type": "execute_result"
    }
   ],
   "source": [
    "data_clean['duration'] = data_clean['ended_at'] - data_clean['started_at']\n",
    "data_clean.head()"
   ]
  },
  {
   "cell_type": "code",
   "execution_count": 31,
   "metadata": {
    "ExecuteTime": {
     "end_time": "2020-10-08T11:17:31.755046Z",
     "start_time": "2020-10-08T11:17:31.307848Z"
    }
   },
   "outputs": [
    {
     "data": {
      "text/html": [
       "<div>\n",
       "<style scoped>\n",
       "    .dataframe tbody tr th:only-of-type {\n",
       "        vertical-align: middle;\n",
       "    }\n",
       "\n",
       "    .dataframe tbody tr th {\n",
       "        vertical-align: top;\n",
       "    }\n",
       "\n",
       "    .dataframe thead th {\n",
       "        text-align: right;\n",
       "    }\n",
       "</style>\n",
       "<table border=\"1\" class=\"dataframe\">\n",
       "  <thead>\n",
       "    <tr style=\"text-align: right;\">\n",
       "      <th></th>\n",
       "      <th>ride_id</th>\n",
       "      <th>rideable_type</th>\n",
       "      <th>started_at</th>\n",
       "      <th>ended_at</th>\n",
       "      <th>start_station_name</th>\n",
       "      <th>start_station_id</th>\n",
       "      <th>end_station_name</th>\n",
       "      <th>end_station_id</th>\n",
       "      <th>start_lat</th>\n",
       "      <th>start_lng</th>\n",
       "      <th>end_lat</th>\n",
       "      <th>end_lng</th>\n",
       "      <th>member_casual</th>\n",
       "      <th>Duration_minuts</th>\n",
       "    </tr>\n",
       "  </thead>\n",
       "  <tbody>\n",
       "    <tr>\n",
       "      <th>0</th>\n",
       "      <td>6549E11C13124B5F</td>\n",
       "      <td>electric_bike</td>\n",
       "      <td>2020-08-14 09:41:03</td>\n",
       "      <td>2020-08-14 10:03:45</td>\n",
       "      <td>NaN</td>\n",
       "      <td>NaN</td>\n",
       "      <td>Illinois St at 20th St</td>\n",
       "      <td>376.0</td>\n",
       "      <td>37.790000</td>\n",
       "      <td>-122.420000</td>\n",
       "      <td>37.760320</td>\n",
       "      <td>-122.387456</td>\n",
       "      <td>casual</td>\n",
       "      <td>-38</td>\n",
       "    </tr>\n",
       "    <tr>\n",
       "      <th>1</th>\n",
       "      <td>B7F273BF69C8E4A3</td>\n",
       "      <td>electric_bike</td>\n",
       "      <td>2020-08-13 18:43:00</td>\n",
       "      <td>2020-08-13 18:52:52</td>\n",
       "      <td>NaN</td>\n",
       "      <td>NaN</td>\n",
       "      <td>24th St at Chattanooga St</td>\n",
       "      <td>132.0</td>\n",
       "      <td>37.750000</td>\n",
       "      <td>-122.410000</td>\n",
       "      <td>37.751798</td>\n",
       "      <td>-122.426539</td>\n",
       "      <td>casual</td>\n",
       "      <td>9</td>\n",
       "    </tr>\n",
       "    <tr>\n",
       "      <th>2</th>\n",
       "      <td>33B224625CF1BC63</td>\n",
       "      <td>electric_bike</td>\n",
       "      <td>2020-08-14 09:13:54</td>\n",
       "      <td>2020-08-14 09:20:29</td>\n",
       "      <td>23rd St at Tennessee St</td>\n",
       "      <td>355.0</td>\n",
       "      <td>Jackson Playground</td>\n",
       "      <td>115.0</td>\n",
       "      <td>37.755426</td>\n",
       "      <td>-122.388588</td>\n",
       "      <td>37.764950</td>\n",
       "      <td>-122.398857</td>\n",
       "      <td>casual</td>\n",
       "      <td>7</td>\n",
       "    </tr>\n",
       "    <tr>\n",
       "      <th>3</th>\n",
       "      <td>053D5F7D1AC11423</td>\n",
       "      <td>electric_bike</td>\n",
       "      <td>2020-08-14 11:26:54</td>\n",
       "      <td>2020-08-14 11:29:17</td>\n",
       "      <td>Broderick St at Oak St</td>\n",
       "      <td>71.0</td>\n",
       "      <td>Pierce St at Haight St</td>\n",
       "      <td>73.0</td>\n",
       "      <td>37.773053</td>\n",
       "      <td>-122.439103</td>\n",
       "      <td>37.771924</td>\n",
       "      <td>-122.433821</td>\n",
       "      <td>casual</td>\n",
       "      <td>3</td>\n",
       "    </tr>\n",
       "    <tr>\n",
       "      <th>4</th>\n",
       "      <td>B3BDECA79FF1C671</td>\n",
       "      <td>electric_bike</td>\n",
       "      <td>2020-08-14 08:37:37</td>\n",
       "      <td>2020-08-14 08:52:20</td>\n",
       "      <td>Broderick St at Oak St</td>\n",
       "      <td>71.0</td>\n",
       "      <td>NaN</td>\n",
       "      <td>NaN</td>\n",
       "      <td>37.773232</td>\n",
       "      <td>-122.439135</td>\n",
       "      <td>37.770000</td>\n",
       "      <td>-122.490000</td>\n",
       "      <td>casual</td>\n",
       "      <td>15</td>\n",
       "    </tr>\n",
       "  </tbody>\n",
       "</table>\n",
       "</div>"
      ],
      "text/plain": [
       "            ride_id  rideable_type          started_at            ended_at  \\\n",
       "0  6549E11C13124B5F  electric_bike 2020-08-14 09:41:03 2020-08-14 10:03:45   \n",
       "1  B7F273BF69C8E4A3  electric_bike 2020-08-13 18:43:00 2020-08-13 18:52:52   \n",
       "2  33B224625CF1BC63  electric_bike 2020-08-14 09:13:54 2020-08-14 09:20:29   \n",
       "3  053D5F7D1AC11423  electric_bike 2020-08-14 11:26:54 2020-08-14 11:29:17   \n",
       "4  B3BDECA79FF1C671  electric_bike 2020-08-14 08:37:37 2020-08-14 08:52:20   \n",
       "\n",
       "        start_station_name  start_station_id           end_station_name  \\\n",
       "0                      NaN               NaN     Illinois St at 20th St   \n",
       "1                      NaN               NaN  24th St at Chattanooga St   \n",
       "2  23rd St at Tennessee St             355.0         Jackson Playground   \n",
       "3   Broderick St at Oak St              71.0     Pierce St at Haight St   \n",
       "4   Broderick St at Oak St              71.0                        NaN   \n",
       "\n",
       "   end_station_id  start_lat   start_lng    end_lat     end_lng member_casual  \\\n",
       "0           376.0  37.790000 -122.420000  37.760320 -122.387456        casual   \n",
       "1           132.0  37.750000 -122.410000  37.751798 -122.426539        casual   \n",
       "2           115.0  37.755426 -122.388588  37.764950 -122.398857        casual   \n",
       "3            73.0  37.773053 -122.439103  37.771924 -122.433821        casual   \n",
       "4             NaN  37.773232 -122.439135  37.770000 -122.490000        casual   \n",
       "\n",
       "   Duration_minuts  \n",
       "0              -38  \n",
       "1                9  \n",
       "2                7  \n",
       "3                3  \n",
       "4               15  "
      ]
     },
     "execution_count": 31,
     "metadata": {},
     "output_type": "execute_result"
    }
   ],
   "source": [
    "#Add colum of durations of trips\n",
    "data_clean['Duration_minuts'] = data_clean['ended_at'].dt.minute - data_clean['started_at'].dt.minute\n",
    "data_clean.head()"
   ]
  },
  {
   "cell_type": "code",
   "execution_count": 14,
   "metadata": {
    "ExecuteTime": {
     "end_time": "2020-10-08T11:17:52.436842Z",
     "start_time": "2020-10-08T11:17:51.714400Z"
    }
   },
   "outputs": [
    {
     "data": {
      "text/html": [
       "<div>\n",
       "<style scoped>\n",
       "    .dataframe tbody tr th:only-of-type {\n",
       "        vertical-align: middle;\n",
       "    }\n",
       "\n",
       "    .dataframe tbody tr th {\n",
       "        vertical-align: top;\n",
       "    }\n",
       "\n",
       "    .dataframe thead th {\n",
       "        text-align: right;\n",
       "    }\n",
       "</style>\n",
       "<table border=\"1\" class=\"dataframe\">\n",
       "  <thead>\n",
       "    <tr style=\"text-align: right;\">\n",
       "      <th></th>\n",
       "      <th>start_station_id</th>\n",
       "      <th>end_station_id</th>\n",
       "      <th>start_lat</th>\n",
       "      <th>start_lng</th>\n",
       "      <th>end_lat</th>\n",
       "      <th>end_lng</th>\n",
       "      <th>start_time_month</th>\n",
       "      <th>start_time_day</th>\n",
       "      <th>start_time_hour</th>\n",
       "      <th>start_time_minute</th>\n",
       "      <th>duration</th>\n",
       "      <th>Duration_minuts</th>\n",
       "    </tr>\n",
       "  </thead>\n",
       "  <tbody>\n",
       "    <tr>\n",
       "      <th>count</th>\n",
       "      <td>104206.000000</td>\n",
       "      <td>101349.000000</td>\n",
       "      <td>152446.000000</td>\n",
       "      <td>152446.000000</td>\n",
       "      <td>152246.000000</td>\n",
       "      <td>152246.000000</td>\n",
       "      <td>152446.0</td>\n",
       "      <td>152446.000000</td>\n",
       "      <td>152446.000000</td>\n",
       "      <td>152446.000000</td>\n",
       "      <td>152446</td>\n",
       "      <td>152446.000000</td>\n",
       "    </tr>\n",
       "    <tr>\n",
       "      <th>mean</th>\n",
       "      <td>224.407261</td>\n",
       "      <td>220.555881</td>\n",
       "      <td>37.729328</td>\n",
       "      <td>-122.355459</td>\n",
       "      <td>37.729155</td>\n",
       "      <td>-122.350376</td>\n",
       "      <td>8.0</td>\n",
       "      <td>15.686086</td>\n",
       "      <td>14.367514</td>\n",
       "      <td>29.493781</td>\n",
       "      <td>0 days 00:25:50.566069</td>\n",
       "      <td>0.179624</td>\n",
       "    </tr>\n",
       "    <tr>\n",
       "      <th>std</th>\n",
       "      <td>173.466608</td>\n",
       "      <td>174.087160</td>\n",
       "      <td>0.142196</td>\n",
       "      <td>0.171591</td>\n",
       "      <td>0.172028</td>\n",
       "      <td>0.681279</td>\n",
       "      <td>0.0</td>\n",
       "      <td>8.872555</td>\n",
       "      <td>4.522060</td>\n",
       "      <td>17.257190</td>\n",
       "      <td>0 days 05:38:08.446353</td>\n",
       "      <td>23.236633</td>\n",
       "    </tr>\n",
       "    <tr>\n",
       "      <th>min</th>\n",
       "      <td>3.000000</td>\n",
       "      <td>3.000000</td>\n",
       "      <td>37.240000</td>\n",
       "      <td>-122.510000</td>\n",
       "      <td>0.000000</td>\n",
       "      <td>-122.510000</td>\n",
       "      <td>8.0</td>\n",
       "      <td>1.000000</td>\n",
       "      <td>0.000000</td>\n",
       "      <td>0.000000</td>\n",
       "      <td>-1 days +23:54:13</td>\n",
       "      <td>-59.000000</td>\n",
       "    </tr>\n",
       "    <tr>\n",
       "      <th>25%</th>\n",
       "      <td>72.000000</td>\n",
       "      <td>72.000000</td>\n",
       "      <td>37.760000</td>\n",
       "      <td>-122.433280</td>\n",
       "      <td>37.760000</td>\n",
       "      <td>-122.432642</td>\n",
       "      <td>8.0</td>\n",
       "      <td>8.000000</td>\n",
       "      <td>11.000000</td>\n",
       "      <td>14.000000</td>\n",
       "      <td>0 days 00:07:09</td>\n",
       "      <td>-2.000000</td>\n",
       "    </tr>\n",
       "    <tr>\n",
       "      <th>50%</th>\n",
       "      <td>145.000000</td>\n",
       "      <td>139.000000</td>\n",
       "      <td>37.773571</td>\n",
       "      <td>-122.413371</td>\n",
       "      <td>37.773556</td>\n",
       "      <td>-122.413200</td>\n",
       "      <td>8.0</td>\n",
       "      <td>15.000000</td>\n",
       "      <td>15.000000</td>\n",
       "      <td>30.000000</td>\n",
       "      <td>0 days 00:12:34</td>\n",
       "      <td>7.000000</td>\n",
       "    </tr>\n",
       "    <tr>\n",
       "      <th>75%</th>\n",
       "      <td>386.000000</td>\n",
       "      <td>384.000000</td>\n",
       "      <td>37.787883</td>\n",
       "      <td>-122.392553</td>\n",
       "      <td>37.788160</td>\n",
       "      <td>-122.392673</td>\n",
       "      <td>8.0</td>\n",
       "      <td>23.000000</td>\n",
       "      <td>18.000000</td>\n",
       "      <td>44.000000</td>\n",
       "      <td>0 days 00:21:48</td>\n",
       "      <td>14.000000</td>\n",
       "    </tr>\n",
       "    <tr>\n",
       "      <th>max</th>\n",
       "      <td>538.000000</td>\n",
       "      <td>538.000000</td>\n",
       "      <td>37.880222</td>\n",
       "      <td>-121.770000</td>\n",
       "      <td>37.880222</td>\n",
       "      <td>0.000000</td>\n",
       "      <td>8.0</td>\n",
       "      <td>31.000000</td>\n",
       "      <td>23.000000</td>\n",
       "      <td>59.000000</td>\n",
       "      <td>30 days 20:36:39</td>\n",
       "      <td>59.000000</td>\n",
       "    </tr>\n",
       "  </tbody>\n",
       "</table>\n",
       "</div>"
      ],
      "text/plain": [
       "       start_station_id  end_station_id      start_lat      start_lng  \\\n",
       "count     104206.000000   101349.000000  152446.000000  152446.000000   \n",
       "mean         224.407261      220.555881      37.729328    -122.355459   \n",
       "std          173.466608      174.087160       0.142196       0.171591   \n",
       "min            3.000000        3.000000      37.240000    -122.510000   \n",
       "25%           72.000000       72.000000      37.760000    -122.433280   \n",
       "50%          145.000000      139.000000      37.773571    -122.413371   \n",
       "75%          386.000000      384.000000      37.787883    -122.392553   \n",
       "max          538.000000      538.000000      37.880222    -121.770000   \n",
       "\n",
       "             end_lat        end_lng  start_time_month  start_time_day  \\\n",
       "count  152246.000000  152246.000000          152446.0   152446.000000   \n",
       "mean       37.729155    -122.350376               8.0       15.686086   \n",
       "std         0.172028       0.681279               0.0        8.872555   \n",
       "min         0.000000    -122.510000               8.0        1.000000   \n",
       "25%        37.760000    -122.432642               8.0        8.000000   \n",
       "50%        37.773556    -122.413200               8.0       15.000000   \n",
       "75%        37.788160    -122.392673               8.0       23.000000   \n",
       "max        37.880222       0.000000               8.0       31.000000   \n",
       "\n",
       "       start_time_hour  start_time_minute                duration  \\\n",
       "count    152446.000000      152446.000000                  152446   \n",
       "mean         14.367514          29.493781  0 days 00:25:50.566069   \n",
       "std           4.522060          17.257190  0 days 05:38:08.446353   \n",
       "min           0.000000           0.000000       -1 days +23:54:13   \n",
       "25%          11.000000          14.000000         0 days 00:07:09   \n",
       "50%          15.000000          30.000000         0 days 00:12:34   \n",
       "75%          18.000000          44.000000         0 days 00:21:48   \n",
       "max          23.000000          59.000000        30 days 20:36:39   \n",
       "\n",
       "       Duration_minuts  \n",
       "count    152446.000000  \n",
       "mean          0.179624  \n",
       "std          23.236633  \n",
       "min         -59.000000  \n",
       "25%          -2.000000  \n",
       "50%           7.000000  \n",
       "75%          14.000000  \n",
       "max          59.000000  "
      ]
     },
     "execution_count": 14,
     "metadata": {},
     "output_type": "execute_result"
    }
   ],
   "source": [
    "data_clean.describe()"
   ]
  },
  {
   "cell_type": "code",
   "execution_count": 15,
   "metadata": {
    "ExecuteTime": {
     "end_time": "2020-10-08T09:32:10.132923Z",
     "start_time": "2020-10-08T09:32:10.058967Z"
    }
   },
   "outputs": [
    {
     "data": {
      "text/plain": [
       "array(['electric_bike', 'docked_bike'], dtype=object)"
      ]
     },
     "execution_count": 15,
     "metadata": {},
     "output_type": "execute_result"
    }
   ],
   "source": [
    "data_clean.rideable_type.unique()"
   ]
  },
  {
   "cell_type": "markdown",
   "metadata": {},
   "source": [
    "### What is the structure of your dataset?\n",
    "\n",
    " there are 152446 bike rides in San Francisco, the data set contains features of:\n",
    "* 1- ride id\n",
    "*2- bike type\n",
    "*3- duration of trip\n",
    "*4- station(start-end)\n",
    "*5- Station Latitude(start-end)\n",
    "*6- Station Longitude(start-end)\n",
    "\n",
    "### What is/are the main feature(s) of interest in your dataset?\n",
    "\n",
    "> In this data set i'm interested in trip duration and  and the type of bikes most used and the type of customer.\n",
    "\n",
    "### What features in the dataset do you think will help support your investigation into your feature(s) of interest?\n",
    "\n",
    "> I think the started_at will be most one help in my investigation."
   ]
  },
  {
   "cell_type": "markdown",
   "metadata": {},
   "source": [
    "## Univariate Exploration\n",
    "\n",
    "> In this section, investigate distributions of individual variables. If\n",
    "you see unusual points or outliers, take a deeper look to clean things up\n",
    "and prepare yourself to look at relationships between variables."
   ]
  },
  {
   "cell_type": "code",
   "execution_count": 16,
   "metadata": {
    "ExecuteTime": {
     "end_time": "2020-10-08T11:18:15.228885Z",
     "start_time": "2020-10-08T11:18:15.083973Z"
    }
   },
   "outputs": [
    {
     "data": {
      "text/html": [
       "<div>\n",
       "<style scoped>\n",
       "    .dataframe tbody tr th:only-of-type {\n",
       "        vertical-align: middle;\n",
       "    }\n",
       "\n",
       "    .dataframe tbody tr th {\n",
       "        vertical-align: top;\n",
       "    }\n",
       "\n",
       "    .dataframe thead th {\n",
       "        text-align: right;\n",
       "    }\n",
       "</style>\n",
       "<table border=\"1\" class=\"dataframe\">\n",
       "  <thead>\n",
       "    <tr style=\"text-align: right;\">\n",
       "      <th></th>\n",
       "      <th>ride_id</th>\n",
       "      <th>rideable_type</th>\n",
       "      <th>started_at</th>\n",
       "      <th>ended_at</th>\n",
       "      <th>start_station_name</th>\n",
       "      <th>start_station_id</th>\n",
       "      <th>end_station_name</th>\n",
       "      <th>end_station_id</th>\n",
       "      <th>start_lat</th>\n",
       "      <th>start_lng</th>\n",
       "      <th>...</th>\n",
       "      <th>end_lng</th>\n",
       "      <th>member_casual</th>\n",
       "      <th>start_time_month_name</th>\n",
       "      <th>start_time_month</th>\n",
       "      <th>start_time_weekday</th>\n",
       "      <th>start_time_day</th>\n",
       "      <th>start_time_hour</th>\n",
       "      <th>start_time_minute</th>\n",
       "      <th>duration</th>\n",
       "      <th>Duration_minuts</th>\n",
       "    </tr>\n",
       "  </thead>\n",
       "  <tbody>\n",
       "    <tr>\n",
       "      <th>0</th>\n",
       "      <td>6549E11C13124B5F</td>\n",
       "      <td>electric_bike</td>\n",
       "      <td>2020-08-14 09:41:03</td>\n",
       "      <td>2020-08-14 10:03:45</td>\n",
       "      <td>NaN</td>\n",
       "      <td>NaN</td>\n",
       "      <td>Illinois St at 20th St</td>\n",
       "      <td>376.0</td>\n",
       "      <td>37.790000</td>\n",
       "      <td>-122.420000</td>\n",
       "      <td>...</td>\n",
       "      <td>-122.387456</td>\n",
       "      <td>casual</td>\n",
       "      <td>August</td>\n",
       "      <td>8</td>\n",
       "      <td>Fri</td>\n",
       "      <td>14</td>\n",
       "      <td>9</td>\n",
       "      <td>41</td>\n",
       "      <td>00:22:42</td>\n",
       "      <td>-38</td>\n",
       "    </tr>\n",
       "    <tr>\n",
       "      <th>1</th>\n",
       "      <td>B7F273BF69C8E4A3</td>\n",
       "      <td>electric_bike</td>\n",
       "      <td>2020-08-13 18:43:00</td>\n",
       "      <td>2020-08-13 18:52:52</td>\n",
       "      <td>NaN</td>\n",
       "      <td>NaN</td>\n",
       "      <td>24th St at Chattanooga St</td>\n",
       "      <td>132.0</td>\n",
       "      <td>37.750000</td>\n",
       "      <td>-122.410000</td>\n",
       "      <td>...</td>\n",
       "      <td>-122.426539</td>\n",
       "      <td>casual</td>\n",
       "      <td>August</td>\n",
       "      <td>8</td>\n",
       "      <td>Thu</td>\n",
       "      <td>13</td>\n",
       "      <td>18</td>\n",
       "      <td>43</td>\n",
       "      <td>00:09:52</td>\n",
       "      <td>9</td>\n",
       "    </tr>\n",
       "    <tr>\n",
       "      <th>2</th>\n",
       "      <td>33B224625CF1BC63</td>\n",
       "      <td>electric_bike</td>\n",
       "      <td>2020-08-14 09:13:54</td>\n",
       "      <td>2020-08-14 09:20:29</td>\n",
       "      <td>23rd St at Tennessee St</td>\n",
       "      <td>355.0</td>\n",
       "      <td>Jackson Playground</td>\n",
       "      <td>115.0</td>\n",
       "      <td>37.755426</td>\n",
       "      <td>-122.388588</td>\n",
       "      <td>...</td>\n",
       "      <td>-122.398857</td>\n",
       "      <td>casual</td>\n",
       "      <td>August</td>\n",
       "      <td>8</td>\n",
       "      <td>Fri</td>\n",
       "      <td>14</td>\n",
       "      <td>9</td>\n",
       "      <td>13</td>\n",
       "      <td>00:06:35</td>\n",
       "      <td>7</td>\n",
       "    </tr>\n",
       "    <tr>\n",
       "      <th>3</th>\n",
       "      <td>053D5F7D1AC11423</td>\n",
       "      <td>electric_bike</td>\n",
       "      <td>2020-08-14 11:26:54</td>\n",
       "      <td>2020-08-14 11:29:17</td>\n",
       "      <td>Broderick St at Oak St</td>\n",
       "      <td>71.0</td>\n",
       "      <td>Pierce St at Haight St</td>\n",
       "      <td>73.0</td>\n",
       "      <td>37.773053</td>\n",
       "      <td>-122.439103</td>\n",
       "      <td>...</td>\n",
       "      <td>-122.433821</td>\n",
       "      <td>casual</td>\n",
       "      <td>August</td>\n",
       "      <td>8</td>\n",
       "      <td>Fri</td>\n",
       "      <td>14</td>\n",
       "      <td>11</td>\n",
       "      <td>26</td>\n",
       "      <td>00:02:23</td>\n",
       "      <td>3</td>\n",
       "    </tr>\n",
       "    <tr>\n",
       "      <th>4</th>\n",
       "      <td>B3BDECA79FF1C671</td>\n",
       "      <td>electric_bike</td>\n",
       "      <td>2020-08-14 08:37:37</td>\n",
       "      <td>2020-08-14 08:52:20</td>\n",
       "      <td>Broderick St at Oak St</td>\n",
       "      <td>71.0</td>\n",
       "      <td>NaN</td>\n",
       "      <td>NaN</td>\n",
       "      <td>37.773232</td>\n",
       "      <td>-122.439135</td>\n",
       "      <td>...</td>\n",
       "      <td>-122.490000</td>\n",
       "      <td>casual</td>\n",
       "      <td>August</td>\n",
       "      <td>8</td>\n",
       "      <td>Fri</td>\n",
       "      <td>14</td>\n",
       "      <td>8</td>\n",
       "      <td>37</td>\n",
       "      <td>00:14:43</td>\n",
       "      <td>15</td>\n",
       "    </tr>\n",
       "  </tbody>\n",
       "</table>\n",
       "<p>5 rows × 21 columns</p>\n",
       "</div>"
      ],
      "text/plain": [
       "            ride_id  rideable_type          started_at            ended_at  \\\n",
       "0  6549E11C13124B5F  electric_bike 2020-08-14 09:41:03 2020-08-14 10:03:45   \n",
       "1  B7F273BF69C8E4A3  electric_bike 2020-08-13 18:43:00 2020-08-13 18:52:52   \n",
       "2  33B224625CF1BC63  electric_bike 2020-08-14 09:13:54 2020-08-14 09:20:29   \n",
       "3  053D5F7D1AC11423  electric_bike 2020-08-14 11:26:54 2020-08-14 11:29:17   \n",
       "4  B3BDECA79FF1C671  electric_bike 2020-08-14 08:37:37 2020-08-14 08:52:20   \n",
       "\n",
       "        start_station_name  start_station_id           end_station_name  \\\n",
       "0                      NaN               NaN     Illinois St at 20th St   \n",
       "1                      NaN               NaN  24th St at Chattanooga St   \n",
       "2  23rd St at Tennessee St             355.0         Jackson Playground   \n",
       "3   Broderick St at Oak St              71.0     Pierce St at Haight St   \n",
       "4   Broderick St at Oak St              71.0                        NaN   \n",
       "\n",
       "   end_station_id  start_lat   start_lng  ...     end_lng  member_casual  \\\n",
       "0           376.0  37.790000 -122.420000  ... -122.387456         casual   \n",
       "1           132.0  37.750000 -122.410000  ... -122.426539         casual   \n",
       "2           115.0  37.755426 -122.388588  ... -122.398857         casual   \n",
       "3            73.0  37.773053 -122.439103  ... -122.433821         casual   \n",
       "4             NaN  37.773232 -122.439135  ... -122.490000         casual   \n",
       "\n",
       "  start_time_month_name start_time_month  start_time_weekday start_time_day  \\\n",
       "0                August                8                 Fri             14   \n",
       "1                August                8                 Thu             13   \n",
       "2                August                8                 Fri             14   \n",
       "3                August                8                 Fri             14   \n",
       "4                August                8                 Fri             14   \n",
       "\n",
       "   start_time_hour  start_time_minute  duration Duration_minuts  \n",
       "0                9                 41  00:22:42             -38  \n",
       "1               18                 43  00:09:52               9  \n",
       "2                9                 13  00:06:35               7  \n",
       "3               11                 26  00:02:23               3  \n",
       "4                8                 37  00:14:43              15  \n",
       "\n",
       "[5 rows x 21 columns]"
      ]
     },
     "execution_count": 16,
     "metadata": {},
     "output_type": "execute_result"
    }
   ],
   "source": [
    "data_clean.head()"
   ]
  },
  {
   "cell_type": "code",
   "execution_count": 25,
   "metadata": {
    "code_folding": [
     0
    ]
   },
   "outputs": [],
   "source": [
    "def count_plot(data , x ,x_label, y_label,title):\n",
    "    base_color = sb.color_palette()[0]\n",
    "    plt.figure(figsize=[10,5])\n",
    "    sb.countplot(data=data , x=x ,color=base_color);\n",
    "    plt.xlabel(x_label);\n",
    "    plt.ylabel(y_label);\n",
    "    plt.title(title);"
   ]
  },
  {
   "cell_type": "markdown",
   "metadata": {},
   "source": [
    "##### the first qustion here what is the days the system most used in ?"
   ]
  },
  {
   "cell_type": "code",
   "execution_count": 18,
   "metadata": {},
   "outputs": [
    {
     "data": {
      "image/png": "[encoded data removed]",
      "text/plain": [
       "<Figure size 720x360 with 1 Axes>"
      ]
     },
     "metadata": {
      "needs_background": "light"
     },
     "output_type": "display_data"
    }
   ],
   "source": [
    "count_plot(data_clean,'start_time_day','Day','Freq.', 'Trips Month Days' )"
   ]
  },
  {
   "cell_type": "code",
   "execution_count": 19,
   "metadata": {
    "ExecuteTime": {
     "end_time": "2020-10-08T11:23:46.643384Z",
     "start_time": "2020-10-08T11:23:45.665648Z"
    },
    "scrolled": true
   },
   "outputs": [
    {
     "data": {
      "image/png": "[encoded data removed]",
      "text/plain": [
       "<Figure size 720x360 with 1 Axes>"
      ]
     },
     "metadata": {
      "needs_background": "light"
     },
     "output_type": "display_data"
    }
   ],
   "source": [
    "count_plot(data_clean, 'start_time_weekday', 'Week-Days', 'Freq.', 'Trips Week Days' )"
   ]
  },
  {
   "cell_type": "markdown",
   "metadata": {},
   "source": [
    "* The bike share system is mainly used during weekdays, with Saturday - Sunday as the most popular days for bike rides."
   ]
  },
  {
   "cell_type": "markdown",
   "metadata": {},
   "source": [
    "##### What is the most used bike type on  ?"
   ]
  },
  {
   "cell_type": "code",
   "execution_count": 32,
   "metadata": {
    "ExecuteTime": {
     "end_time": "2020-10-08T12:24:04.037603Z",
     "start_time": "2020-10-08T12:24:03.342534Z"
    }
   },
   "outputs": [
    {
     "data": {
      "image/png": "[encoded data removed]",
      "text/plain": [
       "<Figure size 720x360 with 1 Axes>"
      ]
     },
     "metadata": {
      "needs_background": "light"
     },
     "output_type": "display_data"
    }
   ],
   "source": [
    "count_plot(data_clean , 'rideable_type', 'Bike-Type', 'Freq.', 'Bike Types')"
   ]
  },
  {
   "cell_type": "markdown",
   "metadata": {},
   "source": [
    "the most used bike is electric bikes than docked bikes."
   ]
  },
  {
   "cell_type": "markdown",
   "metadata": {},
   "source": [
    "#### What is the hours the sytems used most ?"
   ]
  },
  {
   "cell_type": "code",
   "execution_count": 28,
   "metadata": {
    "ExecuteTime": {
     "end_time": "2020-10-08T11:23:11.017916Z",
     "start_time": "2020-10-08T11:23:09.522839Z"
    }
   },
   "outputs": [
    {
     "data": {
      "image/png": "[encoded data removed]",
      "text/plain": [
       "<Figure size 720x360 with 1 Axes>"
      ]
     },
     "metadata": {
      "needs_background": "light"
     },
     "output_type": "display_data"
    }
   ],
   "source": [
    "count_plot(data_clean ,'start_time_hour', 'Hours', 'Freq.', 'Trips Hours')"
   ]
  },
  {
   "cell_type": "markdown",
   "metadata": {},
   "source": [
    "The system is used mainly around from 2-6 pm when people get to and get back from work."
   ]
  },
  {
   "cell_type": "markdown",
   "metadata": {},
   "source": [
    "#### What is the duration of most trips ?"
   ]
  },
  {
   "cell_type": "code",
   "execution_count": 59,
   "metadata": {
    "ExecuteTime": {
     "end_time": "2020-10-08T11:23:23.542739Z",
     "start_time": "2020-10-08T11:23:18.688215Z"
    }
   },
   "outputs": [
    {
     "data": {
      "image/png": "[encoded data removed]",
      "text/plain": [
       "<Figure size 720x360 with 1 Axes>"
      ]
     },
     "metadata": {
      "needs_background": "light"
     },
     "output_type": "display_data"
    }
   ],
   "source": [
    "base_color = sb.color_palette()[0]\n",
    "plt.figure(figsize=[10,5])\n",
    "plt.hist(data=data_clean , x='Duration_minuts',color=base_color);\n",
    "plt.xlabel('minuts');\n",
    "plt.ylabel('Freq.');\n",
    "plt.title('Trip Duration');"
   ]
  },
  {
   "cell_type": "markdown",
   "metadata": {},
   "source": [
    "Looking at the histogram, we can see that trip durations are no longer than 60 min and usually last 6 to 25 min."
   ]
  },
  {
   "cell_type": "markdown",
   "metadata": {},
   "source": [
    "> Make sure that, after every plot or related series of plots, that you\n",
    "include a Markdown cell with comments about what you observed, and what\n",
    "you plan on investigating next."
   ]
  },
  {
   "cell_type": "markdown",
   "metadata": {},
   "source": [
    "### Discuss the distribution(s) of your variable(s) of interest. Were there any unusual points? Did you need to perform any transformations?\n",
    "\n",
    "> There was unusual points for the duration , which in some cases lasted more than 24h. For the histogram I set the max range to 60 minute\n",
    "\n",
    "### Of the features you investigated, were there any unusual distributions? Did you perform any operations on the data to tidy, adjust, or change the form of the data? If so, why did you do this?\n",
    "\n",
    "> still nothing unusual until now"
   ]
  },
  {
   "cell_type": "markdown",
   "metadata": {},
   "source": [
    "## Bivariate Exploration\n",
    "\n",
    "> In this section, investigate relationships between pairs of variables in your\n",
    "data. Make sure the variables that you cover here have been introduced in some\n",
    "fashion in the previous section (univariate exploration)."
   ]
  },
  {
   "cell_type": "code",
   "execution_count": 65,
   "metadata": {
    "ExecuteTime": {
     "end_time": "2020-10-08T11:48:59.592357Z",
     "start_time": "2020-10-08T11:48:59.447736Z"
    }
   },
   "outputs": [
    {
     "data": {
      "text/html": [
       "<div>\n",
       "<style scoped>\n",
       "    .dataframe tbody tr th:only-of-type {\n",
       "        vertical-align: middle;\n",
       "    }\n",
       "\n",
       "    .dataframe tbody tr th {\n",
       "        vertical-align: top;\n",
       "    }\n",
       "\n",
       "    .dataframe thead th {\n",
       "        text-align: right;\n",
       "    }\n",
       "</style>\n",
       "<table border=\"1\" class=\"dataframe\">\n",
       "  <thead>\n",
       "    <tr style=\"text-align: right;\">\n",
       "      <th></th>\n",
       "      <th>ride_id</th>\n",
       "      <th>rideable_type</th>\n",
       "      <th>started_at</th>\n",
       "      <th>ended_at</th>\n",
       "      <th>start_station_name</th>\n",
       "      <th>start_station_id</th>\n",
       "      <th>end_station_name</th>\n",
       "      <th>end_station_id</th>\n",
       "      <th>start_lat</th>\n",
       "      <th>start_lng</th>\n",
       "      <th>...</th>\n",
       "      <th>end_lng</th>\n",
       "      <th>member_casual</th>\n",
       "      <th>start_time_month_name</th>\n",
       "      <th>start_time_month</th>\n",
       "      <th>start_time_weekday</th>\n",
       "      <th>start_time_day</th>\n",
       "      <th>start_time_hour</th>\n",
       "      <th>start_time_minute</th>\n",
       "      <th>duration</th>\n",
       "      <th>Duration_minuts</th>\n",
       "    </tr>\n",
       "  </thead>\n",
       "  <tbody>\n",
       "    <tr>\n",
       "      <th>0</th>\n",
       "      <td>6549E11C13124B5F</td>\n",
       "      <td>electric_bike</td>\n",
       "      <td>2020-08-14 09:41:03</td>\n",
       "      <td>2020-08-14 10:03:45</td>\n",
       "      <td>NaN</td>\n",
       "      <td>NaN</td>\n",
       "      <td>Illinois St at 20th St</td>\n",
       "      <td>376.0</td>\n",
       "      <td>37.790000</td>\n",
       "      <td>-122.420000</td>\n",
       "      <td>...</td>\n",
       "      <td>-122.387456</td>\n",
       "      <td>casual</td>\n",
       "      <td>August</td>\n",
       "      <td>8</td>\n",
       "      <td>Fri</td>\n",
       "      <td>14</td>\n",
       "      <td>9</td>\n",
       "      <td>41</td>\n",
       "      <td>0 days 00:22:42</td>\n",
       "      <td>-38</td>\n",
       "    </tr>\n",
       "    <tr>\n",
       "      <th>1</th>\n",
       "      <td>B7F273BF69C8E4A3</td>\n",
       "      <td>electric_bike</td>\n",
       "      <td>2020-08-13 18:43:00</td>\n",
       "      <td>2020-08-13 18:52:52</td>\n",
       "      <td>NaN</td>\n",
       "      <td>NaN</td>\n",
       "      <td>24th St at Chattanooga St</td>\n",
       "      <td>132.0</td>\n",
       "      <td>37.750000</td>\n",
       "      <td>-122.410000</td>\n",
       "      <td>...</td>\n",
       "      <td>-122.426539</td>\n",
       "      <td>casual</td>\n",
       "      <td>August</td>\n",
       "      <td>8</td>\n",
       "      <td>Thu</td>\n",
       "      <td>13</td>\n",
       "      <td>18</td>\n",
       "      <td>43</td>\n",
       "      <td>0 days 00:09:52</td>\n",
       "      <td>9</td>\n",
       "    </tr>\n",
       "    <tr>\n",
       "      <th>2</th>\n",
       "      <td>33B224625CF1BC63</td>\n",
       "      <td>electric_bike</td>\n",
       "      <td>2020-08-14 09:13:54</td>\n",
       "      <td>2020-08-14 09:20:29</td>\n",
       "      <td>23rd St at Tennessee St</td>\n",
       "      <td>355.0</td>\n",
       "      <td>Jackson Playground</td>\n",
       "      <td>115.0</td>\n",
       "      <td>37.755426</td>\n",
       "      <td>-122.388588</td>\n",
       "      <td>...</td>\n",
       "      <td>-122.398857</td>\n",
       "      <td>casual</td>\n",
       "      <td>August</td>\n",
       "      <td>8</td>\n",
       "      <td>Fri</td>\n",
       "      <td>14</td>\n",
       "      <td>9</td>\n",
       "      <td>13</td>\n",
       "      <td>0 days 00:06:35</td>\n",
       "      <td>7</td>\n",
       "    </tr>\n",
       "    <tr>\n",
       "      <th>3</th>\n",
       "      <td>053D5F7D1AC11423</td>\n",
       "      <td>electric_bike</td>\n",
       "      <td>2020-08-14 11:26:54</td>\n",
       "      <td>2020-08-14 11:29:17</td>\n",
       "      <td>Broderick St at Oak St</td>\n",
       "      <td>71.0</td>\n",
       "      <td>Pierce St at Haight St</td>\n",
       "      <td>73.0</td>\n",
       "      <td>37.773053</td>\n",
       "      <td>-122.439103</td>\n",
       "      <td>...</td>\n",
       "      <td>-122.433821</td>\n",
       "      <td>casual</td>\n",
       "      <td>August</td>\n",
       "      <td>8</td>\n",
       "      <td>Fri</td>\n",
       "      <td>14</td>\n",
       "      <td>11</td>\n",
       "      <td>26</td>\n",
       "      <td>0 days 00:02:23</td>\n",
       "      <td>3</td>\n",
       "    </tr>\n",
       "    <tr>\n",
       "      <th>4</th>\n",
       "      <td>B3BDECA79FF1C671</td>\n",
       "      <td>electric_bike</td>\n",
       "      <td>2020-08-14 08:37:37</td>\n",
       "      <td>2020-08-14 08:52:20</td>\n",
       "      <td>Broderick St at Oak St</td>\n",
       "      <td>71.0</td>\n",
       "      <td>NaN</td>\n",
       "      <td>NaN</td>\n",
       "      <td>37.773232</td>\n",
       "      <td>-122.439135</td>\n",
       "      <td>...</td>\n",
       "      <td>-122.490000</td>\n",
       "      <td>casual</td>\n",
       "      <td>August</td>\n",
       "      <td>8</td>\n",
       "      <td>Fri</td>\n",
       "      <td>14</td>\n",
       "      <td>8</td>\n",
       "      <td>37</td>\n",
       "      <td>0 days 00:14:43</td>\n",
       "      <td>15</td>\n",
       "    </tr>\n",
       "  </tbody>\n",
       "</table>\n",
       "<p>5 rows × 21 columns</p>\n",
       "</div>"
      ],
      "text/plain": [
       "            ride_id  rideable_type          started_at            ended_at  \\\n",
       "0  6549E11C13124B5F  electric_bike 2020-08-14 09:41:03 2020-08-14 10:03:45   \n",
       "1  B7F273BF69C8E4A3  electric_bike 2020-08-13 18:43:00 2020-08-13 18:52:52   \n",
       "2  33B224625CF1BC63  electric_bike 2020-08-14 09:13:54 2020-08-14 09:20:29   \n",
       "3  053D5F7D1AC11423  electric_bike 2020-08-14 11:26:54 2020-08-14 11:29:17   \n",
       "4  B3BDECA79FF1C671  electric_bike 2020-08-14 08:37:37 2020-08-14 08:52:20   \n",
       "\n",
       "        start_station_name  start_station_id           end_station_name  \\\n",
       "0                      NaN               NaN     Illinois St at 20th St   \n",
       "1                      NaN               NaN  24th St at Chattanooga St   \n",
       "2  23rd St at Tennessee St             355.0         Jackson Playground   \n",
       "3   Broderick St at Oak St              71.0     Pierce St at Haight St   \n",
       "4   Broderick St at Oak St              71.0                        NaN   \n",
       "\n",
       "   end_station_id  start_lat   start_lng  ...     end_lng  member_casual  \\\n",
       "0           376.0  37.790000 -122.420000  ... -122.387456         casual   \n",
       "1           132.0  37.750000 -122.410000  ... -122.426539         casual   \n",
       "2           115.0  37.755426 -122.388588  ... -122.398857         casual   \n",
       "3            73.0  37.773053 -122.439103  ... -122.433821         casual   \n",
       "4             NaN  37.773232 -122.439135  ... -122.490000         casual   \n",
       "\n",
       "  start_time_month_name start_time_month  start_time_weekday start_time_day  \\\n",
       "0                August                8                 Fri             14   \n",
       "1                August                8                 Thu             13   \n",
       "2                August                8                 Fri             14   \n",
       "3                August                8                 Fri             14   \n",
       "4                August                8                 Fri             14   \n",
       "\n",
       "   start_time_hour  start_time_minute        duration Duration_minuts  \n",
       "0                9                 41 0 days 00:22:42             -38  \n",
       "1               18                 43 0 days 00:09:52               9  \n",
       "2                9                 13 0 days 00:06:35               7  \n",
       "3               11                 26 0 days 00:02:23               3  \n",
       "4                8                 37 0 days 00:14:43              15  \n",
       "\n",
       "[5 rows x 21 columns]"
      ]
     },
     "execution_count": 65,
     "metadata": {},
     "output_type": "execute_result"
    }
   ],
   "source": [
    "data_clean.head()"
   ]
  },
  {
   "cell_type": "code",
   "execution_count": 67,
   "metadata": {
    "ExecuteTime": {
     "end_time": "2020-10-08T11:50:19.541522Z",
     "start_time": "2020-10-08T11:50:19.466564Z"
    },
    "scrolled": true
   },
   "outputs": [
    {
     "data": {
      "text/plain": [
       "array(['casual', 'member'], dtype=object)"
      ]
     },
     "execution_count": 67,
     "metadata": {},
     "output_type": "execute_result"
    }
   ],
   "source": [
    "data_clean.member_casual.unique()"
   ]
  },
  {
   "cell_type": "code",
   "execution_count": 33,
   "metadata": {
    "ExecuteTime": {
     "end_time": "2020-10-08T12:14:59.484477Z",
     "start_time": "2020-10-08T12:14:59.113448Z"
    }
   },
   "outputs": [
    {
     "data": {
      "text/plain": [
       "0.5939677000380462"
      ]
     },
     "execution_count": 33,
     "metadata": {},
     "output_type": "execute_result"
    }
   ],
   "source": [
    "# make variables of customers and members\n",
    "customer = data_clean.query('member_casual == \"casual\"')['ride_id'].count()\n",
    "subscriber = data_clean.query('member_casual == \"member\"')['ride_id'].count()\n",
    "\n",
    "customer_proportion = customer / data_clean['ride_id'].count()\n",
    "subscriber_proportion = subscriber / data_clean['ride_id'].count()\n",
    "customer_proportion"
   ]
  },
  {
   "cell_type": "markdown",
   "metadata": {},
   "source": [
    "#### what is the Percentage of customers and members ?"
   ]
  },
  {
   "cell_type": "code",
   "execution_count": 86,
   "metadata": {
    "ExecuteTime": {
     "end_time": "2020-10-08T12:15:16.103991Z",
     "start_time": "2020-10-08T12:15:15.502685Z"
    }
   },
   "outputs": [
    {
     "data": {
      "image/png": "[encoded data removed]",
      "text/plain": [
       "<Figure size 720x360 with 1 Axes>"
      ]
     },
     "metadata": {},
     "output_type": "display_data"
    }
   ],
   "source": [
    "plt.figure(figsize = [10, 5])\n",
    "labels = ['Customer', 'Subscriber']\n",
    "sizes = [customer_proportion, subscriber_proportion]\n",
    "colors = ['darkorange', 'steelblue']\n",
    "explode = (0, 0.1)\n",
    "\n",
    "plt.pie(sizes, explode=explode, labels=labels, colors = colors,\n",
    "        autopct='%1.1f%%', shadow=True, startangle=90)\n",
    "plt.axis('equal')\n",
    "\n",
    "plt.suptitle('User type split for GoBike sharing system', y=1.03, fontsize=14, fontweight='semibold');"
   ]
  },
  {
   "cell_type": "markdown",
   "metadata": {},
   "source": [
    "The bike sharing system is mainly used by subscribers (59.4%) than ocassional riders (40.6%).\n"
   ]
  },
  {
   "cell_type": "markdown",
   "metadata": {},
   "source": [
    "#### What is days the system used from customers and members ?"
   ]
  },
  {
   "cell_type": "code",
   "execution_count": 78,
   "metadata": {
    "ExecuteTime": {
     "end_time": "2020-10-08T11:59:19.125310Z",
     "start_time": "2020-10-08T11:59:04.550795Z"
    },
    "scrolled": true
   },
   "outputs": [
    {
     "data": {
      "image/png": "[encoded data removed]",
      "text/plain": [
       "<Figure size 720x360 with 2 Axes>"
      ]
     },
     "metadata": {
      "needs_background": "light"
     },
     "output_type": "display_data"
    }
   ],
   "source": [
    "weekday = ['Mon', 'Tue', 'Wed', 'Thu', 'Fri', 'Sat', 'Sun']\n",
    "g = sb.catplot(data=data_clean, x='start_time_weekday', col=\"member_casual\", kind='count', sharey = False,\n",
    "            color = base_color, order=weekday)\n",
    "g.set_axis_labels(\"Weekday\", \"#Bike Trips\")\n",
    "g.set_titles(\"{col_name}\")\n",
    "g.fig.suptitle('Weekly usage of the bike share system per user type', y=1.03, fontsize=14, fontweight='semibold');"
   ]
  },
  {
   "cell_type": "markdown",
   "metadata": {},
   "source": [
    "There is a different trend on which days customers and subscribers rent bikes. As mentioned above customers are most probably occasional riders and tourist who use the bike sharing system on holiday or weekend trips. On the other hand, subscribers are most probably daily work/school commuters who use the system within a week."
   ]
  },
  {
   "cell_type": "markdown",
   "metadata": {},
   "source": [
    "##### What is the hours the system used most from members and customers ?"
   ]
  },
  {
   "cell_type": "code",
   "execution_count": 80,
   "metadata": {
    "ExecuteTime": {
     "end_time": "2020-10-08T12:03:22.729316Z",
     "start_time": "2020-10-08T12:03:06.864425Z"
    }
   },
   "outputs": [
    {
     "data": {
      "image/png": "[encoded data removed]",
      "text/plain": [
       "<Figure size 720x360 with 2 Axes>"
      ]
     },
     "metadata": {
      "needs_background": "light"
     },
     "output_type": "display_data"
    }
   ],
   "source": [
    "g = sb.catplot(data=data_clean, x='start_time_hour', col=\"member_casual\", kind='count', sharey = False,\n",
    "            color = base_color)\n",
    "g.set_axis_labels(\"Hour\", \"#Bike Trips\")\n",
    "g.set_titles(\"{col_name}\")\n",
    "g.fig.suptitle('Hourly usage of the bike share system per user type', y=1.03, fontsize=14, fontweight='semibold');"
   ]
  },
  {
   "cell_type": "markdown",
   "metadata": {},
   "source": [
    "In the Hours of using system the customers and subscribers are mostly same in time witch it between 4-8. "
   ]
  },
  {
   "cell_type": "markdown",
   "metadata": {},
   "source": [
    "#### What is the duration of trips for each type of customers"
   ]
  },
  {
   "cell_type": "code",
   "execution_count": 82,
   "metadata": {
    "ExecuteTime": {
     "end_time": "2020-10-08T12:08:23.255744Z",
     "start_time": "2020-10-08T12:08:08.422924Z"
    },
    "scrolled": true
   },
   "outputs": [
    {
     "name": "stderr",
     "output_type": "stream",
     "text": [
      "C:\\Users\\oehab\\AppData\\Local\\Programs\\Python\\Python38-32\\lib\\site-packages\\seaborn\\axisgrid.py:243: UserWarning: The `size` parameter has been renamed to `height`; please update your code.\n",
      "  warnings.warn(msg, UserWarning)\n"
     ]
    },
    {
     "data": {
      "image/png": "[encoded data removed]",
      "text/plain": [
       "<Figure size 720x360 with 2 Axes>"
      ]
     },
     "metadata": {
      "needs_background": "light"
     },
     "output_type": "display_data"
    }
   ],
   "source": [
    "g = sb.FacetGrid(data_clean, col=\"member_casual\", margin_titles=True, size=5)\n",
    "bin_edges = np.arange(0, 60,5)\n",
    "g.map(plt.hist, \"Duration_minuts\", color=base_color, bins=bin_edges)\n",
    "g.set_axis_labels(\"Duration (min)\", \"#Bike Trips\")\n",
    "g.set_titles(col_template = '{col_name}')\n",
    "g.fig.suptitle('Trip duration (min) histogram per user type', y=1.03, fontsize=14, fontweight='semibold');"
   ]
  },
  {
   "cell_type": "code",
   "execution_count": 84,
   "metadata": {
    "ExecuteTime": {
     "end_time": "2020-10-08T12:10:23.576770Z",
     "start_time": "2020-10-08T12:10:08.823641Z"
    }
   },
   "outputs": [
    {
     "data": {
      "image/png": "[encoded data removed]",
      "text/plain": [
       "<Figure size 720x360 with 2 Axes>"
      ]
     },
     "metadata": {
      "needs_background": "light"
     },
     "output_type": "display_data"
    }
   ],
   "source": [
    "\n",
    "data = data_clean.query('Duration_minuts < 60')\n",
    "g = sb.catplot(data=data, y='Duration_minuts', col=\"member_casual\", kind='box',\n",
    "            color = base_color)\n",
    "g.set_titles(col_template = '{col_name}')\n",
    "g.set_axis_labels(\"\", \"Trip duration (min)\")\n",
    "g.fig.suptitle('Trip duration (min) boxplot per user type', y=1.03, fontsize=14, fontweight='semibold');"
   ]
  },
  {
   "cell_type": "markdown",
   "metadata": {},
   "source": [
    "Looking at both charts (histograms and box plots), we can see that trip durations are longer for casual than for members."
   ]
  },
  {
   "cell_type": "markdown",
   "metadata": {},
   "source": [
    "### Talk about some of the relationships you observed in this part of the investigation. How did the feature(s) of interest vary with other features in the dataset?\n",
    "\n",
    "Adding the user type to the analysis depicted different usage behaviours between customers and subscribers. As mentioned above customers are casual riders, most probably tourists who rent bikes mainly in summertime (the peak in July), more often during weekends than weekdays and they rent bikes more often within the day rather than around commute hours . Subscribers are daily commuters, who also use the system around summertime, May-October (with the peak in October). They rent bikes more often during weekdays than weekends and mainly around the time they go and go back from work or school.\n",
    "\n",
    "\n",
    "\n",
    "### Did you observe any interesting relationships between the other features (not the main feature(s) of interest)?\n",
    "\n",
    "There is a difference in the trip duration between customers and subscribers. Customers trips are usually longer than for subscribers, most probably due to the fact they prefer bike rides around weekends in summertime, what encourages longer trips around the area. Subscribers on the other hand use the system mainly for commute purposes so they rather prefer quick rides to and from work/school."
   ]
  },
  {
   "cell_type": "markdown",
   "metadata": {},
   "source": [
    "## Multivariate Exploration\n",
    "\n",
    "> Create plots of three or more variables to investigate your data even\n",
    "further. Make sure that your investigations are justified, and follow from\n",
    "your work in the previous sections."
   ]
  },
  {
   "cell_type": "code",
   "execution_count": 89,
   "metadata": {
    "ExecuteTime": {
     "end_time": "2020-10-08T12:26:04.785035Z",
     "start_time": "2020-10-08T12:26:04.615299Z"
    },
    "scrolled": true
   },
   "outputs": [
    {
     "data": {
      "text/html": [
       "<div>\n",
       "<style scoped>\n",
       "    .dataframe tbody tr th:only-of-type {\n",
       "        vertical-align: middle;\n",
       "    }\n",
       "\n",
       "    .dataframe tbody tr th {\n",
       "        vertical-align: top;\n",
       "    }\n",
       "\n",
       "    .dataframe thead th {\n",
       "        text-align: right;\n",
       "    }\n",
       "</style>\n",
       "<table border=\"1\" class=\"dataframe\">\n",
       "  <thead>\n",
       "    <tr style=\"text-align: right;\">\n",
       "      <th></th>\n",
       "      <th>ride_id</th>\n",
       "      <th>rideable_type</th>\n",
       "      <th>started_at</th>\n",
       "      <th>ended_at</th>\n",
       "      <th>start_station_name</th>\n",
       "      <th>start_station_id</th>\n",
       "      <th>end_station_name</th>\n",
       "      <th>end_station_id</th>\n",
       "      <th>start_lat</th>\n",
       "      <th>start_lng</th>\n",
       "      <th>...</th>\n",
       "      <th>end_lng</th>\n",
       "      <th>member_casual</th>\n",
       "      <th>start_time_month_name</th>\n",
       "      <th>start_time_month</th>\n",
       "      <th>start_time_weekday</th>\n",
       "      <th>start_time_day</th>\n",
       "      <th>start_time_hour</th>\n",
       "      <th>start_time_minute</th>\n",
       "      <th>duration</th>\n",
       "      <th>Duration_minuts</th>\n",
       "    </tr>\n",
       "  </thead>\n",
       "  <tbody>\n",
       "    <tr>\n",
       "      <th>0</th>\n",
       "      <td>6549E11C13124B5F</td>\n",
       "      <td>electric_bike</td>\n",
       "      <td>2020-08-14 09:41:03</td>\n",
       "      <td>2020-08-14 10:03:45</td>\n",
       "      <td>NaN</td>\n",
       "      <td>NaN</td>\n",
       "      <td>Illinois St at 20th St</td>\n",
       "      <td>376.0</td>\n",
       "      <td>37.790000</td>\n",
       "      <td>-122.420000</td>\n",
       "      <td>...</td>\n",
       "      <td>-122.387456</td>\n",
       "      <td>casual</td>\n",
       "      <td>August</td>\n",
       "      <td>8</td>\n",
       "      <td>Fri</td>\n",
       "      <td>14</td>\n",
       "      <td>9</td>\n",
       "      <td>41</td>\n",
       "      <td>0 days 00:22:42</td>\n",
       "      <td>-38</td>\n",
       "    </tr>\n",
       "    <tr>\n",
       "      <th>1</th>\n",
       "      <td>B7F273BF69C8E4A3</td>\n",
       "      <td>electric_bike</td>\n",
       "      <td>2020-08-13 18:43:00</td>\n",
       "      <td>2020-08-13 18:52:52</td>\n",
       "      <td>NaN</td>\n",
       "      <td>NaN</td>\n",
       "      <td>24th St at Chattanooga St</td>\n",
       "      <td>132.0</td>\n",
       "      <td>37.750000</td>\n",
       "      <td>-122.410000</td>\n",
       "      <td>...</td>\n",
       "      <td>-122.426539</td>\n",
       "      <td>casual</td>\n",
       "      <td>August</td>\n",
       "      <td>8</td>\n",
       "      <td>Thu</td>\n",
       "      <td>13</td>\n",
       "      <td>18</td>\n",
       "      <td>43</td>\n",
       "      <td>0 days 00:09:52</td>\n",
       "      <td>9</td>\n",
       "    </tr>\n",
       "    <tr>\n",
       "      <th>2</th>\n",
       "      <td>33B224625CF1BC63</td>\n",
       "      <td>electric_bike</td>\n",
       "      <td>2020-08-14 09:13:54</td>\n",
       "      <td>2020-08-14 09:20:29</td>\n",
       "      <td>23rd St at Tennessee St</td>\n",
       "      <td>355.0</td>\n",
       "      <td>Jackson Playground</td>\n",
       "      <td>115.0</td>\n",
       "      <td>37.755426</td>\n",
       "      <td>-122.388588</td>\n",
       "      <td>...</td>\n",
       "      <td>-122.398857</td>\n",
       "      <td>casual</td>\n",
       "      <td>August</td>\n",
       "      <td>8</td>\n",
       "      <td>Fri</td>\n",
       "      <td>14</td>\n",
       "      <td>9</td>\n",
       "      <td>13</td>\n",
       "      <td>0 days 00:06:35</td>\n",
       "      <td>7</td>\n",
       "    </tr>\n",
       "    <tr>\n",
       "      <th>3</th>\n",
       "      <td>053D5F7D1AC11423</td>\n",
       "      <td>electric_bike</td>\n",
       "      <td>2020-08-14 11:26:54</td>\n",
       "      <td>2020-08-14 11:29:17</td>\n",
       "      <td>Broderick St at Oak St</td>\n",
       "      <td>71.0</td>\n",
       "      <td>Pierce St at Haight St</td>\n",
       "      <td>73.0</td>\n",
       "      <td>37.773053</td>\n",
       "      <td>-122.439103</td>\n",
       "      <td>...</td>\n",
       "      <td>-122.433821</td>\n",
       "      <td>casual</td>\n",
       "      <td>August</td>\n",
       "      <td>8</td>\n",
       "      <td>Fri</td>\n",
       "      <td>14</td>\n",
       "      <td>11</td>\n",
       "      <td>26</td>\n",
       "      <td>0 days 00:02:23</td>\n",
       "      <td>3</td>\n",
       "    </tr>\n",
       "    <tr>\n",
       "      <th>4</th>\n",
       "      <td>B3BDECA79FF1C671</td>\n",
       "      <td>electric_bike</td>\n",
       "      <td>2020-08-14 08:37:37</td>\n",
       "      <td>2020-08-14 08:52:20</td>\n",
       "      <td>Broderick St at Oak St</td>\n",
       "      <td>71.0</td>\n",
       "      <td>NaN</td>\n",
       "      <td>NaN</td>\n",
       "      <td>37.773232</td>\n",
       "      <td>-122.439135</td>\n",
       "      <td>...</td>\n",
       "      <td>-122.490000</td>\n",
       "      <td>casual</td>\n",
       "      <td>August</td>\n",
       "      <td>8</td>\n",
       "      <td>Fri</td>\n",
       "      <td>14</td>\n",
       "      <td>8</td>\n",
       "      <td>37</td>\n",
       "      <td>0 days 00:14:43</td>\n",
       "      <td>15</td>\n",
       "    </tr>\n",
       "  </tbody>\n",
       "</table>\n",
       "<p>5 rows × 21 columns</p>\n",
       "</div>"
      ],
      "text/plain": [
       "            ride_id  rideable_type          started_at            ended_at  \\\n",
       "0  6549E11C13124B5F  electric_bike 2020-08-14 09:41:03 2020-08-14 10:03:45   \n",
       "1  B7F273BF69C8E4A3  electric_bike 2020-08-13 18:43:00 2020-08-13 18:52:52   \n",
       "2  33B224625CF1BC63  electric_bike 2020-08-14 09:13:54 2020-08-14 09:20:29   \n",
       "3  053D5F7D1AC11423  electric_bike 2020-08-14 11:26:54 2020-08-14 11:29:17   \n",
       "4  B3BDECA79FF1C671  electric_bike 2020-08-14 08:37:37 2020-08-14 08:52:20   \n",
       "\n",
       "        start_station_name  start_station_id           end_station_name  \\\n",
       "0                      NaN               NaN     Illinois St at 20th St   \n",
       "1                      NaN               NaN  24th St at Chattanooga St   \n",
       "2  23rd St at Tennessee St             355.0         Jackson Playground   \n",
       "3   Broderick St at Oak St              71.0     Pierce St at Haight St   \n",
       "4   Broderick St at Oak St              71.0                        NaN   \n",
       "\n",
       "   end_station_id  start_lat   start_lng  ...     end_lng  member_casual  \\\n",
       "0           376.0  37.790000 -122.420000  ... -122.387456         casual   \n",
       "1           132.0  37.750000 -122.410000  ... -122.426539         casual   \n",
       "2           115.0  37.755426 -122.388588  ... -122.398857         casual   \n",
       "3            73.0  37.773053 -122.439103  ... -122.433821         casual   \n",
       "4             NaN  37.773232 -122.439135  ... -122.490000         casual   \n",
       "\n",
       "  start_time_month_name start_time_month  start_time_weekday start_time_day  \\\n",
       "0                August                8                 Fri             14   \n",
       "1                August                8                 Thu             13   \n",
       "2                August                8                 Fri             14   \n",
       "3                August                8                 Fri             14   \n",
       "4                August                8                 Fri             14   \n",
       "\n",
       "   start_time_hour  start_time_minute        duration Duration_minuts  \n",
       "0                9                 41 0 days 00:22:42             -38  \n",
       "1               18                 43 0 days 00:09:52               9  \n",
       "2                9                 13 0 days 00:06:35               7  \n",
       "3               11                 26 0 days 00:02:23               3  \n",
       "4                8                 37 0 days 00:14:43              15  \n",
       "\n",
       "[5 rows x 21 columns]"
      ]
     },
     "execution_count": 89,
     "metadata": {},
     "output_type": "execute_result"
    }
   ],
   "source": [
    "data_clean.head()"
   ]
  },
  {
   "cell_type": "markdown",
   "metadata": {},
   "source": [
    "##### the relation between weekdays, hours and type of customers "
   ]
  },
  {
   "cell_type": "code",
   "execution_count": 94,
   "metadata": {
    "ExecuteTime": {
     "end_time": "2020-10-08T12:32:06.228119Z",
     "start_time": "2020-10-08T12:32:02.376398Z"
    }
   },
   "outputs": [
    {
     "data": {
      "image/png": "[encoded data removed]",
      "text/plain": [
       "<Figure size 648x576 with 4 Axes>"
      ]
     },
     "metadata": {
      "needs_background": "light"
     },
     "output_type": "display_data"
    }
   ],
   "source": [
    "data_clean['start_time_weekday'] = pd.Categorical(data_clean['start_time_weekday'], \n",
    "                                                categories=['Mon','Tue','Wed','Thu','Fri','Sat', 'Sun'], \n",
    "                                                ordered=True)\n",
    "plt.figure(figsize=(9,8))\n",
    "plt.suptitle('Hourly usage during the weekday for customers and subscribers', fontsize=14, fontweight='semibold')\n",
    "\n",
    "# heatmap for customers\n",
    "plt.subplot(1, 2, 1)\n",
    "df_customer = data_clean.query('member_casual == \"casual\"').groupby([\"start_time_hour\", \"start_time_weekday\"])[\"ride_id\"].size().reset_index()\n",
    "df_customer = df_customer.pivot(\"start_time_hour\", \"start_time_weekday\", \"ride_id\")\n",
    "sb.heatmap(df_customer, cmap=\"BuPu\")\n",
    "\n",
    "plt.title(\"Customer\", y=1.015)\n",
    "plt.xlabel('Weekday')\n",
    "plt.ylabel('Start Time Hour')\n",
    "\n",
    "# heatmap for subscribers\n",
    "plt.subplot(1, 2, 2)\n",
    "df_subscriber = data_clean.query('member_casual == \"member\"').groupby([\"start_time_hour\", \"start_time_weekday\"])[\"ride_id\"].size().reset_index()\n",
    "df_subscriber = df_subscriber.pivot(\"start_time_hour\", \"start_time_weekday\", \"ride_id\")\n",
    "sb.heatmap(df_subscriber, cmap=\"BuPu\")\n",
    "\n",
    "plt.title(\"Subscriber\", y=1.015)\n",
    "plt.xlabel('Weekday')\n",
    "plt.ylabel('');"
   ]
  },
  {
   "cell_type": "markdown",
   "metadata": {},
   "source": [
    "##### The plot perfectly summarizes in one place the diffrent trends for customers and subscribers I was writing up before.\n",
    "###### Customers use the bike sharing system more often on weekends:\n",
    "* weekdays: most bike rides hapen around 8-9am and 5-6pm with the peak on Fridays around 5pm\n",
    "*weekends: most bike rides happen between 10am - 8pm with the peak on Saturdays around 2pm\n",
    "###### Subscribers use the bike sharing system mainly on weekdays:\n",
    "* weekdays: most bike rides hapen around 8-9am and 5-6pm with the peak on Tuesdays around 8am\n",
    "*weekends: bikes are still rented but there is a significant drop in numbers of rented bikes throughout the entire weekends"
   ]
  },
  {
   "cell_type": "code",
   "execution_count": 95,
   "metadata": {
    "ExecuteTime": {
     "end_time": "2020-10-08T12:38:17.202329Z",
     "start_time": "2020-10-08T12:38:16.048982Z"
    }
   },
   "outputs": [
    {
     "data": {
      "image/png": "[encoded data removed]",
      "text/plain": [
       "<Figure size 720x360 with 1 Axes>"
      ]
     },
     "metadata": {
      "needs_background": "light"
     },
     "output_type": "display_data"
    }
   ],
   "source": [
    "plt.figure(figsize = [10, 5])\n",
    "g = sb.countplot(data=data_clean, x=\"member_casual\", hue=\"rideable_type\", order=data_clean.member_casual.value_counts().index)\n",
    "g.set_xlabel('User Type')\n",
    "g.set_ylabel('#Bike Trips');"
   ]
  },
  {
   "cell_type": "code",
   "execution_count": 96,
   "metadata": {
    "ExecuteTime": {
     "end_time": "2020-10-08T12:40:48.162732Z",
     "start_time": "2020-10-08T12:40:31.680049Z"
    }
   },
   "outputs": [
    {
     "data": {
      "image/png": "[encoded data removed]",
      "text/plain": [
       "<Figure size 818.625x360 with 2 Axes>"
      ]
     },
     "metadata": {
      "needs_background": "light"
     },
     "output_type": "display_data"
    }
   ],
   "source": [
    "\n",
    "weekday = ['Mon', 'Tue', 'Wed', 'Thu', 'Fri', 'Sat', 'Sun']\n",
    "g = sb.catplot(data=data_clean, x='start_time_weekday', col=\"member_casual\", hue='rideable_type', kind='count', sharey = False,\n",
    "                order = weekday)\n",
    "g.set_axis_labels(\"Weekday\", \"#Bike Trips\")\n",
    "g._legend.set_title('Bike type')\n",
    "g.set_titles(\"{col_name}\")\n",
    "g.fig.suptitle('Weekly usage of the bike share system per user type and bike type', y=1.03, fontsize=14, fontweight='semibold');"
   ]
  },
  {
   "cell_type": "code",
   "execution_count": 99,
   "metadata": {
    "ExecuteTime": {
     "end_time": "2020-10-08T12:43:03.572928Z",
     "start_time": "2020-10-08T12:42:46.448307Z"
    }
   },
   "outputs": [
    {
     "data": {
      "image/png": "[encoded data removed]",
      "text/plain": [
       "<Figure size 818.625x360 with 2 Axes>"
      ]
     },
     "metadata": {
      "needs_background": "light"
     },
     "output_type": "display_data"
    }
   ],
   "source": [
    "g = sb.catplot(data=data_clean, x='start_time_hour', col=\"member_casual\", hue='rideable_type', kind='count', sharey = False)\n",
    "g.set_axis_labels(\"Hour\", \"#Bike Trips\")\n",
    "g._legend.set_title('Bikw tType')\n",
    "g.set_titles(\"{col_name}\")\n",
    "g.fig.suptitle('Hourly usage of the bike share system per user type and bike type', y=1.03, fontsize=14, fontweight='semibold');\n"
   ]
  },
  {
   "cell_type": "markdown",
   "metadata": {},
   "source": [
    "### Talk about some of the relationships you observed in this part of the investigation. Were there features that strengthened each other in terms of looking at your feature(s) of interest?\n",
    "\n",
    "Plotting a heatmap of when bikes are high in demand throughout the day on each weekday shed a new light on the customers behaviour. Plotting #bike trips throughout the day and #bike trips within the weekdays separately gave the impression that the demand for bikes is quite high throughout the day with a peak around 5pm which is not entirely true. The trend within weekdays for customers follows (although customers are rather not early birds) the one for subscribers who rent bikes mainly around commute hours (8-9am and 5-6pm). For customers, as depicted in univariate explorations, most of the trips happen on weekends but mainly between 10am - 8pm with the peak on Saturdays around 2pm, what was previosly not visible.\n"
   ]
  },
  {
   "cell_type": "markdown",
   "metadata": {},
   "source": [
    "> At the end of your report, make sure that you export the notebook as an\n",
    "html file from the `File > Download as... > HTML` menu. Make sure you keep\n",
    "track of where the exported file goes, so you can put it in the same folder\n",
    "as this notebook for project submission. Also, make sure you remove all of\n",
    "the quote-formatted guide notes like this one before you finish your report!"
   ]
  },
  {
   "cell_type": "code",
   "execution_count": null,
   "metadata": {},
   "outputs": [],
   "source": []
  }
 ],
 "metadata": {
  "kernelspec": {
   "display_name": "Python 3",
   "language": "python",
   "name": "python3"
  },
  "language_info": {
   "codemirror_mode": {
    "name": "ipython",
    "version": 3
   },
   "file_extension": ".py",
   "mimetype": "text/x-python",
   "name": "python",
   "nbconvert_exporter": "python",
   "pygments_lexer": "ipython3",
   "version": "3.8.3"
  },
  "varInspector": {
   "cols": {
    "lenName": 16,
    "lenType": 16,
    "lenVar": 40
   },
   "kernels_config": {
    "python": {
     "delete_cmd_postfix": "",
     "delete_cmd_prefix": "del ",
     "library": "var_list.py",
     "varRefreshCmd": "print(var_dic_list())"
    },
    "r": {
     "delete_cmd_postfix": ") ",
     "delete_cmd_prefix": "rm(",
     "library": "var_list.r",
     "varRefreshCmd": "cat(var_dic_list()) "
    }
   },
   "types_to_exclude": [
    "module",
    "function",
    "builtin_function_or_method",
    "instance",
    "_Feature"
   ],
   "window_display": false
  }
 },
 "nbformat": 4,
 "nbformat_minor": 2
}
